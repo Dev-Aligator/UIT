{
 "cells": [
  {
   "cell_type": "markdown",
   "id": "1194bce3-bb8d-49ab-abe0-ff4cd9107c8c",
   "metadata": {},
   "source": [
    "<h1><b>Tiền xử lí dữ liệu (phần 2)"
   ]
  },
  {
   "cell_type": "markdown",
   "id": "e583ed8f-b51b-4106-b26d-5a28e2895ef6",
   "metadata": {},
   "source": [
    "Trong bài này, ta sẽ tiếp tục thực hành những vấn đề:\n",
    "\n",
    "    - Data transformation:\n",
    "        + Kỹ thuật Ordinal Encoding và One-hot encoding\n",
    "        + Kỹ thuật binning: Uniform, Quantile, Clustered\n",
    "    - Data augmentation: tăng cường dữ liệu để đề phòng trường hợp dữ liệu mất cân đối hoặc các mẫu / phân lớp quá hiếm gặp"
   ]
  },
  {
   "cell_type": "markdown",
   "id": "922db70a-3bde-4e6c-b2c6-fa68183cbbd4",
   "metadata": {},
   "source": [
    "<h1>Data Transformation"
   ]
  },
  {
   "cell_type": "markdown",
   "id": "5be3ab68-43a1-4450-aac2-e15664875713",
   "metadata": {},
   "source": [
    "<h3>Kĩ thuật Ordinal Encoding"
   ]
  },
  {
   "cell_type": "markdown",
   "id": "4a317bbd-24ad-48f4-93a1-acad98a77201",
   "metadata": {},
   "source": [
    "Đầu tiên ta cần import thư viện cần thiết `pandas` với tên tắt là `pd`"
   ]
  },
  {
   "cell_type": "code",
   "execution_count": 1,
   "id": "fc54d5f8-9c69-44e5-bdda-a6e3b0656ba3",
   "metadata": {},
   "outputs": [],
   "source": [
    "### BEGIN SOLUTION\n",
    "\n",
    "### END SOLUTION\n"
   ]
  },
  {
   "cell_type": "markdown",
   "id": "a71ec21d-69ec-4612-94de-c42d3ac5878f",
   "metadata": {},
   "source": [
    "Tiếp đến là đọc file csv bằng `pandas` như những bài trước và lưu dataframe vào biến `df`. Khi nộp trên hệ thống `https://mmlab.uit.edu.vn/grader/` các bạn vui lòng đọc tại đường dẫn `data/heart.csv`."
   ]
  },
  {
   "cell_type": "code",
   "execution_count": 2,
   "id": "14d4373c-9143-48aa-aca4-98b646b8bcb9",
   "metadata": {},
   "outputs": [
    {
     "data": {
      "text/html": [
       "<div>\n",
       "<style scoped>\n",
       "    .dataframe tbody tr th:only-of-type {\n",
       "        vertical-align: middle;\n",
       "    }\n",
       "\n",
       "    .dataframe tbody tr th {\n",
       "        vertical-align: top;\n",
       "    }\n",
       "\n",
       "    .dataframe thead th {\n",
       "        text-align: right;\n",
       "    }\n",
       "</style>\n",
       "<table border=\"1\" class=\"dataframe\">\n",
       "  <thead>\n",
       "    <tr style=\"text-align: right;\">\n",
       "      <th></th>\n",
       "      <th>Unnamed: 0</th>\n",
       "      <th>Age</th>\n",
       "      <th>Sex</th>\n",
       "      <th>ChestPain</th>\n",
       "      <th>RestBP</th>\n",
       "      <th>Chol</th>\n",
       "      <th>Fbs</th>\n",
       "      <th>RestECG</th>\n",
       "      <th>MaxHR</th>\n",
       "      <th>ExAng</th>\n",
       "      <th>Oldpeak</th>\n",
       "      <th>Slope</th>\n",
       "      <th>Ca</th>\n",
       "      <th>Thal</th>\n",
       "      <th>AHD</th>\n",
       "    </tr>\n",
       "  </thead>\n",
       "  <tbody>\n",
       "    <tr>\n",
       "      <th>0</th>\n",
       "      <td>1</td>\n",
       "      <td>63</td>\n",
       "      <td>1</td>\n",
       "      <td>typical</td>\n",
       "      <td>145</td>\n",
       "      <td>233</td>\n",
       "      <td>1</td>\n",
       "      <td>2</td>\n",
       "      <td>150</td>\n",
       "      <td>0</td>\n",
       "      <td>2.3</td>\n",
       "      <td>3</td>\n",
       "      <td>0</td>\n",
       "      <td>fixed</td>\n",
       "      <td>No</td>\n",
       "    </tr>\n",
       "    <tr>\n",
       "      <th>1</th>\n",
       "      <td>2</td>\n",
       "      <td>67</td>\n",
       "      <td>1</td>\n",
       "      <td>asymptomatic</td>\n",
       "      <td>160</td>\n",
       "      <td>286</td>\n",
       "      <td>0</td>\n",
       "      <td>2</td>\n",
       "      <td>108</td>\n",
       "      <td>1</td>\n",
       "      <td>1.5</td>\n",
       "      <td>2</td>\n",
       "      <td>3</td>\n",
       "      <td>normal</td>\n",
       "      <td>Yes</td>\n",
       "    </tr>\n",
       "    <tr>\n",
       "      <th>2</th>\n",
       "      <td>3</td>\n",
       "      <td>67</td>\n",
       "      <td>1</td>\n",
       "      <td>asymptomatic</td>\n",
       "      <td>120</td>\n",
       "      <td>229</td>\n",
       "      <td>0</td>\n",
       "      <td>2</td>\n",
       "      <td>129</td>\n",
       "      <td>1</td>\n",
       "      <td>2.6</td>\n",
       "      <td>2</td>\n",
       "      <td>2</td>\n",
       "      <td>reversable</td>\n",
       "      <td>Yes</td>\n",
       "    </tr>\n",
       "    <tr>\n",
       "      <th>3</th>\n",
       "      <td>4</td>\n",
       "      <td>37</td>\n",
       "      <td>1</td>\n",
       "      <td>nonanginal</td>\n",
       "      <td>130</td>\n",
       "      <td>250</td>\n",
       "      <td>0</td>\n",
       "      <td>0</td>\n",
       "      <td>187</td>\n",
       "      <td>0</td>\n",
       "      <td>3.5</td>\n",
       "      <td>3</td>\n",
       "      <td>0</td>\n",
       "      <td>normal</td>\n",
       "      <td>No</td>\n",
       "    </tr>\n",
       "    <tr>\n",
       "      <th>4</th>\n",
       "      <td>5</td>\n",
       "      <td>41</td>\n",
       "      <td>0</td>\n",
       "      <td>nontypical</td>\n",
       "      <td>130</td>\n",
       "      <td>204</td>\n",
       "      <td>0</td>\n",
       "      <td>2</td>\n",
       "      <td>172</td>\n",
       "      <td>0</td>\n",
       "      <td>1.4</td>\n",
       "      <td>1</td>\n",
       "      <td>0</td>\n",
       "      <td>normal</td>\n",
       "      <td>No</td>\n",
       "    </tr>\n",
       "  </tbody>\n",
       "</table>\n",
       "</div>"
      ],
      "text/plain": [
       "   Unnamed: 0  Age  Sex     ChestPain  RestBP  Chol  Fbs  RestECG  MaxHR  \\\n",
       "0           1   63    1       typical     145   233    1        2    150   \n",
       "1           2   67    1  asymptomatic     160   286    0        2    108   \n",
       "2           3   67    1  asymptomatic     120   229    0        2    129   \n",
       "3           4   37    1    nonanginal     130   250    0        0    187   \n",
       "4           5   41    0    nontypical     130   204    0        2    172   \n",
       "\n",
       "   ExAng  Oldpeak  Slope  Ca        Thal  AHD  \n",
       "0      0      2.3      3   0       fixed   No  \n",
       "1      1      1.5      2   3      normal  Yes  \n",
       "2      1      2.6      2   2  reversable  Yes  \n",
       "3      0      3.5      3   0      normal   No  \n",
       "4      0      1.4      1   0      normal   No  "
      ]
     },
     "execution_count": 2,
     "metadata": {},
     "output_type": "execute_result"
    }
   ],
   "source": [
    "### BEGIN SOLUTION\n",
    "\n",
    "### END SOLUTION\n",
    "df.head()"
   ]
  },
  {
   "cell_type": "markdown",
   "id": "042fdb3d-04a1-4a2b-a2be-83dc71bc97c7",
   "metadata": {},
   "source": [
    "Ta thấy ở cột `ChestPain`, cột `Thal`, cột `AHD` có dữ liệu dạng **category**.\n",
    "Giả sử mô hình của ta chỉ nhận dữ liệu đầu vào dạng số, ta phải biến các cột này thành dạng số sao cho những đặc trưng này không bị thay đổi\n",
    "\n",
    "Ở cột `ChestPain`:\n",
    "*   typical: 1\n",
    "*   asymptomatic: 2\n",
    "*   nonanginal: 3\n",
    "*   nontypical: 4\n",
    "\n",
    "Ở cột `Thal`:\n",
    "*   normal: 1\n",
    "*   fixed: 2\n",
    "*   reversable: 3\n",
    "\n",
    "Ở cột `AHD`:\n",
    "*   No: 0\n",
    "*   Yes: 1"
   ]
  },
  {
   "cell_type": "code",
   "execution_count": 3,
   "id": "ad3dcf35-387d-4e04-b359-4f82adbe5e1e",
   "metadata": {},
   "outputs": [
    {
     "data": {
      "text/html": [
       "<div>\n",
       "<style scoped>\n",
       "    .dataframe tbody tr th:only-of-type {\n",
       "        vertical-align: middle;\n",
       "    }\n",
       "\n",
       "    .dataframe tbody tr th {\n",
       "        vertical-align: top;\n",
       "    }\n",
       "\n",
       "    .dataframe thead th {\n",
       "        text-align: right;\n",
       "    }\n",
       "</style>\n",
       "<table border=\"1\" class=\"dataframe\">\n",
       "  <thead>\n",
       "    <tr style=\"text-align: right;\">\n",
       "      <th></th>\n",
       "      <th>Unnamed: 0</th>\n",
       "      <th>Age</th>\n",
       "      <th>Sex</th>\n",
       "      <th>ChestPain</th>\n",
       "      <th>RestBP</th>\n",
       "      <th>Chol</th>\n",
       "      <th>Fbs</th>\n",
       "      <th>RestECG</th>\n",
       "      <th>MaxHR</th>\n",
       "      <th>ExAng</th>\n",
       "      <th>Oldpeak</th>\n",
       "      <th>Slope</th>\n",
       "      <th>Ca</th>\n",
       "      <th>Thal</th>\n",
       "      <th>AHD</th>\n",
       "    </tr>\n",
       "  </thead>\n",
       "  <tbody>\n",
       "    <tr>\n",
       "      <th>0</th>\n",
       "      <td>1</td>\n",
       "      <td>63</td>\n",
       "      <td>1</td>\n",
       "      <td>1</td>\n",
       "      <td>145</td>\n",
       "      <td>233</td>\n",
       "      <td>1</td>\n",
       "      <td>2</td>\n",
       "      <td>150</td>\n",
       "      <td>0</td>\n",
       "      <td>2.3</td>\n",
       "      <td>3</td>\n",
       "      <td>0</td>\n",
       "      <td>2</td>\n",
       "      <td>0</td>\n",
       "    </tr>\n",
       "    <tr>\n",
       "      <th>1</th>\n",
       "      <td>2</td>\n",
       "      <td>67</td>\n",
       "      <td>1</td>\n",
       "      <td>2</td>\n",
       "      <td>160</td>\n",
       "      <td>286</td>\n",
       "      <td>0</td>\n",
       "      <td>2</td>\n",
       "      <td>108</td>\n",
       "      <td>1</td>\n",
       "      <td>1.5</td>\n",
       "      <td>2</td>\n",
       "      <td>3</td>\n",
       "      <td>1</td>\n",
       "      <td>1</td>\n",
       "    </tr>\n",
       "    <tr>\n",
       "      <th>2</th>\n",
       "      <td>3</td>\n",
       "      <td>67</td>\n",
       "      <td>1</td>\n",
       "      <td>2</td>\n",
       "      <td>120</td>\n",
       "      <td>229</td>\n",
       "      <td>0</td>\n",
       "      <td>2</td>\n",
       "      <td>129</td>\n",
       "      <td>1</td>\n",
       "      <td>2.6</td>\n",
       "      <td>2</td>\n",
       "      <td>2</td>\n",
       "      <td>3</td>\n",
       "      <td>1</td>\n",
       "    </tr>\n",
       "    <tr>\n",
       "      <th>3</th>\n",
       "      <td>4</td>\n",
       "      <td>37</td>\n",
       "      <td>1</td>\n",
       "      <td>3</td>\n",
       "      <td>130</td>\n",
       "      <td>250</td>\n",
       "      <td>0</td>\n",
       "      <td>0</td>\n",
       "      <td>187</td>\n",
       "      <td>0</td>\n",
       "      <td>3.5</td>\n",
       "      <td>3</td>\n",
       "      <td>0</td>\n",
       "      <td>1</td>\n",
       "      <td>0</td>\n",
       "    </tr>\n",
       "    <tr>\n",
       "      <th>4</th>\n",
       "      <td>5</td>\n",
       "      <td>41</td>\n",
       "      <td>0</td>\n",
       "      <td>4</td>\n",
       "      <td>130</td>\n",
       "      <td>204</td>\n",
       "      <td>0</td>\n",
       "      <td>2</td>\n",
       "      <td>172</td>\n",
       "      <td>0</td>\n",
       "      <td>1.4</td>\n",
       "      <td>1</td>\n",
       "      <td>0</td>\n",
       "      <td>1</td>\n",
       "      <td>0</td>\n",
       "    </tr>\n",
       "  </tbody>\n",
       "</table>\n",
       "</div>"
      ],
      "text/plain": [
       "   Unnamed: 0  Age  Sex  ChestPain  RestBP  Chol  Fbs  RestECG  MaxHR  ExAng  \\\n",
       "0           1   63    1          1     145   233    1        2    150      0   \n",
       "1           2   67    1          2     160   286    0        2    108      1   \n",
       "2           3   67    1          2     120   229    0        2    129      1   \n",
       "3           4   37    1          3     130   250    0        0    187      0   \n",
       "4           5   41    0          4     130   204    0        2    172      0   \n",
       "\n",
       "   Oldpeak  Slope  Ca  Thal  AHD  \n",
       "0      2.3      3   0     2    0  \n",
       "1      1.5      2   3     1    1  \n",
       "2      2.6      2   2     3    1  \n",
       "3      3.5      3   0     1    0  \n",
       "4      1.4      1   0     1    0  "
      ]
     },
     "execution_count": 3,
     "metadata": {},
     "output_type": "execute_result"
    }
   ],
   "source": [
    "### BEGIN SOLUTION\n",
    "\n",
    "### END SOLUTION\n",
    "\n",
    "df.head()"
   ]
  },
  {
   "cell_type": "code",
   "execution_count": 4,
   "id": "32428850-6f42-4bcd-bae7-898470703d29",
   "metadata": {},
   "outputs": [],
   "source": [
    "assert df['ChestPain'].dtypes == 'int64'\n",
    "assert df.shape == (50, 15)"
   ]
  },
  {
   "cell_type": "markdown",
   "id": "e454a95e-0d4c-4797-913d-fd0e64084277",
   "metadata": {},
   "source": [
    "<h3>Kĩ thuật One-hot encoding"
   ]
  },
  {
   "cell_type": "markdown",
   "id": "f1ac73eb-ab38-4767-802d-f480b6f1a29b",
   "metadata": {},
   "source": [
    "Ở đây ta sẽ tiếp tục đi đến một kĩ thuật khác đó là `One-hot`"
   ]
  },
  {
   "cell_type": "markdown",
   "id": "4e7f8feb-0ff6-4231-bc9a-4e4871d8cda3",
   "metadata": {},
   "source": [
    "Ta tiếp tục đọc file csv bằng `pandas` và lưu dataframe vào biến `df`. Khi nộp trên hệ thống `https://mmlab.uit.edu.vn/grader/` các bạn vui lòng đọc tại đường dẫn `data/heart.csv`."
   ]
  },
  {
   "cell_type": "code",
   "execution_count": 6,
   "id": "97061c2d-1016-4018-9d20-a4f573c87675",
   "metadata": {},
   "outputs": [
    {
     "data": {
      "text/html": [
       "<div>\n",
       "<style scoped>\n",
       "    .dataframe tbody tr th:only-of-type {\n",
       "        vertical-align: middle;\n",
       "    }\n",
       "\n",
       "    .dataframe tbody tr th {\n",
       "        vertical-align: top;\n",
       "    }\n",
       "\n",
       "    .dataframe thead th {\n",
       "        text-align: right;\n",
       "    }\n",
       "</style>\n",
       "<table border=\"1\" class=\"dataframe\">\n",
       "  <thead>\n",
       "    <tr style=\"text-align: right;\">\n",
       "      <th></th>\n",
       "      <th>Unnamed: 0</th>\n",
       "      <th>Age</th>\n",
       "      <th>Sex</th>\n",
       "      <th>ChestPain</th>\n",
       "      <th>RestBP</th>\n",
       "      <th>Chol</th>\n",
       "      <th>Fbs</th>\n",
       "      <th>RestECG</th>\n",
       "      <th>MaxHR</th>\n",
       "      <th>ExAng</th>\n",
       "      <th>Oldpeak</th>\n",
       "      <th>Slope</th>\n",
       "      <th>Ca</th>\n",
       "      <th>Thal</th>\n",
       "      <th>AHD</th>\n",
       "    </tr>\n",
       "  </thead>\n",
       "  <tbody>\n",
       "    <tr>\n",
       "      <th>0</th>\n",
       "      <td>1</td>\n",
       "      <td>63</td>\n",
       "      <td>1</td>\n",
       "      <td>typical</td>\n",
       "      <td>145</td>\n",
       "      <td>233</td>\n",
       "      <td>1</td>\n",
       "      <td>2</td>\n",
       "      <td>150</td>\n",
       "      <td>0</td>\n",
       "      <td>2.3</td>\n",
       "      <td>3</td>\n",
       "      <td>0</td>\n",
       "      <td>fixed</td>\n",
       "      <td>No</td>\n",
       "    </tr>\n",
       "    <tr>\n",
       "      <th>1</th>\n",
       "      <td>2</td>\n",
       "      <td>67</td>\n",
       "      <td>1</td>\n",
       "      <td>asymptomatic</td>\n",
       "      <td>160</td>\n",
       "      <td>286</td>\n",
       "      <td>0</td>\n",
       "      <td>2</td>\n",
       "      <td>108</td>\n",
       "      <td>1</td>\n",
       "      <td>1.5</td>\n",
       "      <td>2</td>\n",
       "      <td>3</td>\n",
       "      <td>normal</td>\n",
       "      <td>Yes</td>\n",
       "    </tr>\n",
       "    <tr>\n",
       "      <th>2</th>\n",
       "      <td>3</td>\n",
       "      <td>67</td>\n",
       "      <td>1</td>\n",
       "      <td>asymptomatic</td>\n",
       "      <td>120</td>\n",
       "      <td>229</td>\n",
       "      <td>0</td>\n",
       "      <td>2</td>\n",
       "      <td>129</td>\n",
       "      <td>1</td>\n",
       "      <td>2.6</td>\n",
       "      <td>2</td>\n",
       "      <td>2</td>\n",
       "      <td>reversable</td>\n",
       "      <td>Yes</td>\n",
       "    </tr>\n",
       "    <tr>\n",
       "      <th>3</th>\n",
       "      <td>4</td>\n",
       "      <td>37</td>\n",
       "      <td>1</td>\n",
       "      <td>nonanginal</td>\n",
       "      <td>130</td>\n",
       "      <td>250</td>\n",
       "      <td>0</td>\n",
       "      <td>0</td>\n",
       "      <td>187</td>\n",
       "      <td>0</td>\n",
       "      <td>3.5</td>\n",
       "      <td>3</td>\n",
       "      <td>0</td>\n",
       "      <td>normal</td>\n",
       "      <td>No</td>\n",
       "    </tr>\n",
       "    <tr>\n",
       "      <th>4</th>\n",
       "      <td>5</td>\n",
       "      <td>41</td>\n",
       "      <td>0</td>\n",
       "      <td>nontypical</td>\n",
       "      <td>130</td>\n",
       "      <td>204</td>\n",
       "      <td>0</td>\n",
       "      <td>2</td>\n",
       "      <td>172</td>\n",
       "      <td>0</td>\n",
       "      <td>1.4</td>\n",
       "      <td>1</td>\n",
       "      <td>0</td>\n",
       "      <td>normal</td>\n",
       "      <td>No</td>\n",
       "    </tr>\n",
       "  </tbody>\n",
       "</table>\n",
       "</div>"
      ],
      "text/plain": [
       "   Unnamed: 0  Age  Sex     ChestPain  RestBP  Chol  Fbs  RestECG  MaxHR  \\\n",
       "0           1   63    1       typical     145   233    1        2    150   \n",
       "1           2   67    1  asymptomatic     160   286    0        2    108   \n",
       "2           3   67    1  asymptomatic     120   229    0        2    129   \n",
       "3           4   37    1    nonanginal     130   250    0        0    187   \n",
       "4           5   41    0    nontypical     130   204    0        2    172   \n",
       "\n",
       "   ExAng  Oldpeak  Slope  Ca        Thal  AHD  \n",
       "0      0      2.3      3   0       fixed   No  \n",
       "1      1      1.5      2   3      normal  Yes  \n",
       "2      1      2.6      2   2  reversable  Yes  \n",
       "3      0      3.5      3   0      normal   No  \n",
       "4      0      1.4      1   0      normal   No  "
      ]
     },
     "execution_count": 6,
     "metadata": {},
     "output_type": "execute_result"
    }
   ],
   "source": [
    "### BEGIN SOLUTION\n",
    "\n",
    "### END SOLUTION\n",
    "df.head()\n"
   ]
  },
  {
   "cell_type": "markdown",
   "id": "a92aff40-96fb-46c5-9071-472c8f5aa05b",
   "metadata": {},
   "source": [
    "Ở cột `Thal`, ta sẽ biến cột này thành `One-hot` bằng cách thêm 3 cột `fixed`, `normal`, `reversable` vào `df`\n",
    "\n",
    "**Ba cột mới này sẽ biểu diễn One-hot cho cột `Thal` cũ**"
   ]
  },
  {
   "cell_type": "code",
   "execution_count": null,
   "id": "823f0c6e-c4be-4b38-8525-6c6374d3aaf0",
   "metadata": {},
   "outputs": [],
   "source": [
    "### BEGIN SOLUTION\n",
    "\n",
    "### END SOLUTION\n",
    "df\n"
   ]
  },
  {
   "cell_type": "code",
   "execution_count": 8,
   "id": "48cae209-6703-410b-8464-6300302d0aaf",
   "metadata": {},
   "outputs": [],
   "source": [
    "assert df.shape == (50, 17)\n",
    "assert df['fixed'][0] == 1\n",
    "assert df['normal'][0] == 0\n",
    "assert df['reversable'][0] == 0"
   ]
  },
  {
   "cell_type": "markdown",
   "id": "b0b215e4-b52f-4881-8521-1d15f2752534",
   "metadata": {},
   "source": [
    "<i>Trong một số trường hợp, ta không thể giữ nguyên dữ liệu dạng số để tính toán, mà ta cần chuyển nó qua dạng category\n",
    "\n",
    "Thường thì các mô hình Tree sẽ cần dữ liệu dạng Category </i>\n",
    "\n",
    "Để làm được việc này, ta sẽ đi đến kĩ thuật đầu tiên `Uniform`"
   ]
  },
  {
   "cell_type": "markdown",
   "id": "ef0fc79d-67fa-4ab5-b8e9-b0252b3886f9",
   "metadata": {},
   "source": [
    "<h3>Kĩ thuật Uniform"
   ]
  },
  {
   "cell_type": "code",
   "execution_count": 10,
   "id": "3fe67968-edfa-4fec-85b0-8438a8af957b",
   "metadata": {},
   "outputs": [
    {
     "data": {
      "image/png": "[encoded data removed]",
      "text/plain": [
       "<Figure size 640x480 with 1 Axes>"
      ]
     },
     "metadata": {},
     "output_type": "display_data"
    }
   ],
   "source": [
    "import matplotlib.pyplot as plt \n",
    "\n",
    "plt.plot(df['Age'])\n",
    "plt.xlabel('Index')\n",
    "plt.ylabel('Age');"
   ]
  },
  {
   "cell_type": "markdown",
   "id": "a65309f2-53f0-43b6-8445-a0309c2d9557",
   "metadata": {},
   "source": [
    "**Kĩ thuật Uniform dùng để biến dữ liệu thành các Bin có khoảng dữ liệu bằng nhau**\n",
    "\n",
    "Mục tiêu: Tạo thêm **1 cột**, giá trị của cột là `middle-age` hoặc `old` hoặc `elderly`, cột có label là `Uniform`, cột này ở kế sau cột `Age`\n",
    "\n",
    "Ta có thể làm thủ công hoặc sử dụng phương thức `qcut` của `pandas`"
   ]
  },
  {
   "cell_type": "code",
   "execution_count": 11,
   "id": "7cbdeda1-2a08-4fef-8f7f-91caf5db2f8c",
   "metadata": {},
   "outputs": [],
   "source": [
    "### BEGIN SOLUTION\n",
    "\n",
    "### END SOLUTION\n"
   ]
  },
  {
   "cell_type": "code",
   "execution_count": 12,
   "id": "22a88574-48b5-430a-ac93-eb2a1a68cc62",
   "metadata": {},
   "outputs": [
    {
     "data": {
      "image/png": "[encoded data removed]",
      "text/plain": [
       "<Figure size 640x480 with 1 Axes>"
      ]
     },
     "metadata": {},
     "output_type": "display_data"
    }
   ],
   "source": [
    "import seaborn as sns\n",
    "sns.countplot(x=df['Uniform']);"
   ]
  },
  {
   "cell_type": "markdown",
   "id": "19c5c0ab-8434-4233-a9e5-525da82219b9",
   "metadata": {},
   "source": [
    "Ta có thể thấy số lượng dữ liệu chênh nhau không quá nhiều"
   ]
  },
  {
   "cell_type": "code",
   "execution_count": 13,
   "id": "3d317015-fa77-4789-8ab6-0a29ee3acb7c",
   "metadata": {},
   "outputs": [],
   "source": [
    "assert df.columns[2] == 'Uniform'\n",
    "assert df['Uniform'].dtype == 'category'"
   ]
  },
  {
   "cell_type": "markdown",
   "id": "98028b81-0ae5-4503-b09e-2db7a88be4a9",
   "metadata": {},
   "source": [
    "<h3>Kĩ thuật Quantile"
   ]
  },
  {
   "cell_type": "markdown",
   "id": "817cc18e-591e-4587-b09a-c0b8ab707247",
   "metadata": {},
   "source": [
    "Kĩ thuật Quantile dùng để chia dữ liệu thành những khoảng với phần trăm cho trước\n",
    "\n",
    "Giả sử ta sẽ chia cột `Age` thành 4 phần:\n",
    "* `Q1` <= 25%\n",
    "* 25% < `Q2` <= 50%\n",
    "* 50% < `Q3` <= 95%\n",
    "* 95% < `Q4`\n",
    "\n",
    "Sau đó ta thêm cột `Quantile` với các giá trị `Q1, Q2, Q3, Q4` ở vị trí thứ 3 của dataframe `df`"
   ]
  },
  {
   "cell_type": "code",
   "execution_count": 15,
   "id": "4dd576c3-c9db-418d-885c-511a11f72a0f",
   "metadata": {},
   "outputs": [],
   "source": [
    "labels = ['Q1', 'Q2', 'Q3', 'Q4']\n",
    "quantiles = df['Age'].quantile([0.25, 0.5, 0.95])\n",
    "### BEGIN SOLUTION\n",
    "\n",
    "### END SOLUTION\n"
   ]
  },
  {
   "cell_type": "code",
   "execution_count": 16,
   "id": "5310559c-3d97-483c-8ee8-d86edd032334",
   "metadata": {},
   "outputs": [
    {
     "data": {
      "image/png": "[encoded data removed]",
      "text/plain": [
       "<Figure size 640x480 with 1 Axes>"
      ]
     },
     "metadata": {},
     "output_type": "display_data"
    }
   ],
   "source": [
    "sns.countplot(x=df['Quantile']);"
   ]
  },
  {
   "cell_type": "code",
   "execution_count": 17,
   "id": "3e29495d-d876-48c0-85d1-5ee6ace35eff",
   "metadata": {},
   "outputs": [],
   "source": [
    "assert df.shape == (50, 19)"
   ]
  },
  {
   "cell_type": "markdown",
   "id": "8d925536-4a95-47e0-81b7-bd7883c514c0",
   "metadata": {},
   "source": [
    "<h3>Kĩ thuật Clustered"
   ]
  },
  {
   "cell_type": "markdown",
   "id": "355d098f-b0a3-4b7d-9a7d-69794ee56046",
   "metadata": {},
   "source": [
    "Kĩ thuật Clustered dùng để biến dữ liệu theo ý của ta\n",
    "\n",
    "Ở đây là các tuổi lớn hơn **60** là `C1` và còn lại là `C2`\n",
    "\n",
    "Ta tiếp tục thêm cột `Clustered` ở vị trí thứ `4`, giá trị của cột này là `C1, C2`"
   ]
  },
  {
   "cell_type": "code",
   "execution_count": 19,
   "id": "400f9875-88de-43d3-b7db-e402bd75a6fa",
   "metadata": {},
   "outputs": [],
   "source": [
    "labels = ['C1', 'C2']\n",
    "### BEGIN SOLUTION\n",
    "\n",
    "### END SOLUTION"
   ]
  },
  {
   "cell_type": "code",
   "execution_count": 20,
   "id": "f2a97999-8080-40b6-8ea2-4bf44e8aac4a",
   "metadata": {},
   "outputs": [
    {
     "data": {
      "image/png": "[encoded data removed]",
      "text/plain": [
       "<Figure size 640x480 with 1 Axes>"
      ]
     },
     "metadata": {},
     "output_type": "display_data"
    }
   ],
   "source": [
    "sns.countplot(x=df['Clustered']);"
   ]
  },
  {
   "cell_type": "markdown",
   "id": "1ccb28bb-96b1-441c-8746-44e4bd69898d",
   "metadata": {},
   "source": [
    "<h1>Data augmentation"
   ]
  },
  {
   "cell_type": "markdown",
   "id": "a0d2358a-0dd1-430f-ad7b-aca750b05853",
   "metadata": {},
   "source": [
    "Đối với những bài toán mà quá ít dữ liệu, ta có thể tìm thêm hoặc tạo ra dữ liệu mới từ những dữ liệu hiện có\n",
    "\n",
    "Nhưng điều này ít nhiều cũng sẽ ảnh hưởng đến chất lượng của mô hình, ta nên cân nhắc kĩ khi sử dụng cách này"
   ]
  }
 ],
 "metadata": {
  "kernelspec": {
   "display_name": "Python 3 (ipykernel)",
   "language": "python",
   "name": "python3"
  },
  "language_info": {
   "codemirror_mode": {
    "name": "ipython",
    "version": 3
   },
   "file_extension": ".py",
   "mimetype": "text/x-python",
   "name": "python",
   "nbconvert_exporter": "python",
   "pygments_lexer": "ipython3",
   "version": "3.11.5"
  }
 },
 "nbformat": 4,
 "nbformat_minor": 5
}
