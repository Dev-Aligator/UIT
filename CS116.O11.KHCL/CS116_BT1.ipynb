{
  "cells": [
    {
      "cell_type": "markdown",
      "metadata": {
        "id": "g-Cey7Dk0ZIH"
      },
      "source": [
        "# BÀI 1: THAO TÁC CƠ BẢN TRÊN DỮ LIỆU"
      ]
    },
    {
      "cell_type": "markdown",
      "metadata": {
        "id": "XUAEEQ7Ypwuq"
      },
      "source": [
        "## 1. Đọc dữ liệu"
      ]
    },
    {
      "cell_type": "markdown",
      "metadata": {
        "id": "kLFi9Ifl0ZIK"
      },
      "source": [
        "Đầu tiên ta cần import các thư viện cần thiết, trong bài này sẽ sử dụng thư viện `pandas`.\n",
        "\n",
        "Nếu trường hợp ta muốn chạy trên máy local và cài đặt thư viện. Thì hãy mở cửa sổ `Terminal` và chạy dòng lệnh `pip install pandas`"
      ]
    },
    {
      "cell_type": "code",
      "execution_count": null,
      "metadata": {
        "id": "Ou7tnN__0ZIL"
      },
      "outputs": [],
      "source": [
        "### BEGIN SOLUTION\n",
        "\n",
        "### END SOLUTION"
      ]
    },
    {
      "cell_type": "markdown",
      "metadata": {
        "id": "JXxmVd9a0ZIM"
      },
      "source": [
        "### Đọc dữ liệu từ file có định dạng csv"
      ]
    },
    {
      "cell_type": "markdown",
      "metadata": {
        "id": "25he0hV40ZIM"
      },
      "source": [
        "+ Cần chuẩn bị một file .csv (có thể lưu ở máy local hoặc trên Google Drive). Sau đó truyền đường dẫn file vào câu lệnh ở dưới.\n",
        "\n",
        "+ df_csv = ... (sử dụng phương thức `read_csv()` của thư viện `pandas`)"
      ]
    },
    {
      "cell_type": "code",
      "execution_count": null,
      "metadata": {
        "id": "iVsTfqy90ZIM"
      },
      "outputs": [],
      "source": [
        "### BEGIN SOLUTION\n",
        "\n",
        "### END SOLUTION"
      ]
    },
    {
      "cell_type": "markdown",
      "metadata": {
        "id": "zOIER3B70ZIN"
      },
      "source": [
        "### Đọc dữ liệu từ file với định dạng xlsx (Excel)"
      ]
    },
    {
      "cell_type": "markdown",
      "metadata": {
        "id": "u5CSH5UY0ZIN"
      },
      "source": [
        "+ Tương tự, ta cần chuẩn bị một file .xlsx (có thể lưu ở máy local hoặc trên Google Drive). Sau đó truyền đường dẫn file vào câu lệnh ở dưới.\n",
        "\n",
        "+ df_xlsx = ... (sử dụng phương thức `read_excel()` của thư viện `pandas`)"
      ]
    },
    {
      "cell_type": "code",
      "execution_count": null,
      "metadata": {
        "id": "ZGcFkgYO0ZIN"
      },
      "outputs": [],
      "source": [
        "### BEGIN SOLUTION\n",
        "\n",
        "### END SOLUTION\n"
      ]
    },
    {
      "cell_type": "markdown",
      "metadata": {
        "id": "JrPJd0P90ZIO"
      },
      "source": [
        "### Đọc dữ liệu từ google sheet (Tự tham khảo và tìm hiểu thêm)"
      ]
    },
    {
      "cell_type": "markdown",
      "metadata": {
        "id": "TYGXK3XA0ZIO"
      },
      "source": [
        "+ Tương tự, ta cần chuẩn bị một file token.json (có thể lưu ở máy local hoặc trên Google Drive). Sau đó truyền đường dẫn file vào câu lệnh ở dưới.\n",
        "\n",
        "+ Bên dưới là code mẫu\n",
        "\n",
        "**Nguồn tham khảo:**\n",
        "\n",
        "* https://www.youtube.com/watch?v=3wC-SCdJK2c\n",
        "* https://developers.google.com/sheets/api/quickstart/python\n"
      ]
    },
    {
      "cell_type": "markdown",
      "metadata": {
        "id": "6P12LN500ZIP"
      },
      "source": [
        "**Lưu ý:** Ngoài ra ta còn có thể lưu google sheet thành file csv hoặc xlsx rồi làm như bình thường"
      ]
    },
    {
      "cell_type": "markdown",
      "metadata": {
        "id": "b7R7oXIf0ZIQ"
      },
      "source": [
        "## 2. Xoá dữ liệu"
      ]
    },
    {
      "cell_type": "markdown",
      "metadata": {
        "id": "CCY_vwEIwSct"
      },
      "source": [
        "Đối với các thao tác xử lý dữ liệu tiếp theo, chúng ta sẽ sử dụng bộ dữ liệu `df_csv`."
      ]
    },
    {
      "cell_type": "code",
      "execution_count": null,
      "metadata": {
        "id": "FlyGLfW30ZIQ"
      },
      "outputs": [],
      "source": [
        "df_csv.head()"
      ]
    },
    {
      "cell_type": "markdown",
      "metadata": {
        "id": "InTCgUmM0ZIQ"
      },
      "source": [
        "Đầu tiên ta sẽ xem số hàng và số cột của dataframe `df_csv`"
      ]
    },
    {
      "cell_type": "code",
      "execution_count": null,
      "metadata": {
        "id": "ehAkEmQx0ZIQ"
      },
      "outputs": [],
      "source": [
        "df_csv.shape"
      ]
    },
    {
      "cell_type": "markdown",
      "metadata": {
        "id": "OlFzOX5s0ZIQ"
      },
      "source": [
        "* Ta thấy cột `Unnamed: 0` không có giá trị sử dụng nên ta xoá nó đi bằng cách dùng phương thức `drop` của dataframe\n",
        "\n",
        "* Tham số `axis` được sử dụng để chỉ định xoá hàng hoặc xoá cột\n",
        "    - Với axis=0 thì đó là xoá hàng\n",
        "    - Với axis=1 thì đó là xoá cột\n",
        "* Ngoài cách xoá bằng tên `Unnamed: 0` như trên, ta có thể xoá bằng index hoặc cách khác, các bạn tự tìm hiểu thêm\n",
        "\n",
        "df_csv_after = ..."
      ]
    },
    {
      "cell_type": "code",
      "execution_count": null,
      "metadata": {
        "id": "sZEnSHFf0ZIQ"
      },
      "outputs": [],
      "source": [
        "### BEGIN SOLUTION\n",
        "\n",
        "### END SOLUTION"
      ]
    },
    {
      "cell_type": "markdown",
      "metadata": {
        "id": "zpl6A4840ZIR"
      },
      "source": [
        "## 3. Thêm hàng và cột"
      ]
    },
    {
      "cell_type": "markdown",
      "metadata": {
        "id": "j28EkaVF0ZIR"
      },
      "source": [
        "### Thêm hàng\n",
        "\n",
        "+ Để thêm hàng hoặc cột, ta có thể sử dụng phương thức như `concat()` của thư viện `pandas`\n",
        "\n",
        "+ **Lưu ý:** `pd.append()` không còn hỗ trợ từ phiên bản pandas >= 1.4\n"
      ]
    },
    {
      "cell_type": "code",
      "execution_count": null,
      "metadata": {
        "id": "w3Ac31l-0ZIR"
      },
      "outputs": [],
      "source": [
        "df_csv_after.head()"
      ]
    },
    {
      "cell_type": "code",
      "execution_count": null,
      "metadata": {
        "id": "bKk5quUi0ZIR"
      },
      "outputs": [],
      "source": [
        "new_row = pd.DataFrame([{'Age': 18, 'Sex': 1, 'ChestPain': 'typical', 'RestBP': 144, 'Chol': 231, 'Fbs': 1, 'RestECG': 2, 'MaxHR': 150, 'ExAng': 1, 'Oldpeak': 2.4, 'Slope': 1, 'Ca': 3, 'Thal': 'normal', 'AHD': 'No'}])"
      ]
    },
    {
      "cell_type": "markdown",
      "metadata": {
        "id": "t2erzXVx0ZIR"
      },
      "source": [
        "Ta sẽ thêm hàng `new_row` vào cuối dataframe `df_csv_after` bằng phương thức `concat` của thư viện `pandas` với:\n",
        "* Tham số `ignore_index = True`\n",
        "* Sau đó ta gán lại vào biến `df_combined`"
      ]
    },
    {
      "cell_type": "code",
      "execution_count": null,
      "metadata": {
        "id": "xQY8qB-O0ZIR"
      },
      "outputs": [],
      "source": [
        "### BEGIN SOLUTION\n",
        "\n",
        "### END SOLUTION\n",
        "df_combined.tail()"
      ]
    },
    {
      "cell_type": "markdown",
      "metadata": {
        "id": "qH_cw6Mx0ZIR"
      },
      "source": [
        "<hr>"
      ]
    },
    {
      "cell_type": "markdown",
      "metadata": {
        "id": "zNaXYkBJ0ZIR"
      },
      "source": [
        "### Thêm cột"
      ]
    },
    {
      "cell_type": "code",
      "execution_count": null,
      "metadata": {
        "id": "FrfRBe-R0ZIR"
      },
      "outputs": [],
      "source": [
        "df_combined.shape"
      ]
    },
    {
      "cell_type": "markdown",
      "metadata": {
        "id": "twwDb0xi0ZIR"
      },
      "source": [
        "Ta sẽ tạo thêm một mảng gồm 51 phần tử (tương ứng với số hàng của dataframe)"
      ]
    },
    {
      "cell_type": "code",
      "execution_count": null,
      "metadata": {
        "id": "U8svq7OZ0ZIR"
      },
      "outputs": [],
      "source": [
        "import numpy as np\n",
        "np.random.seed(0)\n",
        "new_col = np.random.randint(5, size=51)\n",
        "new_col"
      ]
    },
    {
      "cell_type": "markdown",
      "metadata": {
        "id": "_b3XBoq60ZIS"
      },
      "source": [
        "Thông thường thêm cột sẽ có 2 cách chính:\n",
        "* Thêm trực tiếp\n",
        "* Thêm bằng phương thức `insert` của `dataframe`"
      ]
    },
    {
      "cell_type": "markdown",
      "metadata": {
        "id": "4hCRwIhJzQ7I"
      },
      "source": [
        "**1. Thêm trực tiếp**\n",
        "\n",
        "Ở đây ta sẽ thêm trực tiếp `new_col` vào cuối dataframe với label là `new`\n",
        "\n",
        "Code: `df_combined['new'] = ...`"
      ]
    },
    {
      "cell_type": "code",
      "execution_count": null,
      "metadata": {
        "id": "Ooc1GmV20ZIS"
      },
      "outputs": [],
      "source": [
        "### BEGIN SOLUTION\n",
        "\n",
        "### END SOLUTION\n",
        "df_combined.tail()"
      ]
    },
    {
      "cell_type": "code",
      "execution_count": null,
      "metadata": {
        "id": "Y-GH9Bmc0ZIS"
      },
      "outputs": [],
      "source": []
    },
    {
      "cell_type": "markdown",
      "metadata": {
        "id": "uSe6_VyX0ZIT"
      },
      "source": [
        "**2. Thêm bằng bằng phương thức `insert` của dataframe**\n",
        "\n",
        "+ Dùng phương thức `insert` này sẽ có lợi ích đó chính là ta có thể chỉ định vị trí của cột mà ta cần thêm\n",
        "\n",
        "+ Ở đây ta sẽ thêm `new_col` vào vị trí thứ 2 của dataframe `df_combined` với label là `new_col_1`\n",
        "\n",
        "+ **Lưu ý**, khi sử dụng phương thức `insert` thì ta không cần gán lại"
      ]
    },
    {
      "cell_type": "code",
      "execution_count": null,
      "metadata": {
        "id": "C9TAG4yp0ZIT"
      },
      "outputs": [],
      "source": [
        "### BEGIN SOLUTION\n",
        "\n",
        "### END SOLUTION\n",
        "df_combined.head()"
      ]
    },
    {
      "cell_type": "markdown",
      "metadata": {
        "id": "U8cOEV7f0ZIT"
      },
      "source": [
        "## 4. Thay đổi giá trị trong dataframe"
      ]
    },
    {
      "cell_type": "markdown",
      "metadata": {
        "id": "eels2MNo0ZIT"
      },
      "source": [
        "Để thay đổi giá trị trong dataframe, ta sử dụng phương thức `iloc` hoặc `at` của dataframe\n",
        "\n",
        "* Phương thức `iloc` ta phải truyền vào 2 số tương ứng với vị trí hàng và cột của giá trị cần thay đổi\n",
        "* Phương thức `at` ta phải truyền vào chính xác tên hàng và tên cột\n",
        "* Đối với phương thức `iloc` nếu muốn lấy giá trị của toàn bộ hàng thì ta chỉ cần truyền vào hàng đó mà không cần truyền vào cột, còn nếu muốn lấy cột thì ta làm ngược lại nhưng **lưu ý trước dấu `,` ta phải để dấu `:`**\n",
        "\n",
        "Để thay đổi giá trị thì ta chỉ việc gán lại\n"
      ]
    },
    {
      "cell_type": "code",
      "execution_count": null,
      "metadata": {
        "id": "F25piWOt0ZIT"
      },
      "outputs": [],
      "source": [
        "print(df_combined.iloc[0, 0])\n",
        "df_combined.at[0, 'Age']"
      ]
    },
    {
      "cell_type": "code",
      "execution_count": null,
      "metadata": {
        "id": "kRzJ15f60ZIT"
      },
      "outputs": [],
      "source": [
        "np.random.seed(1)\n",
        "change_val = np.random.randint(5, size=51)\n",
        "change_val"
      ]
    },
    {
      "cell_type": "markdown",
      "metadata": {
        "id": "Aa6ojSYx0ZIT"
      },
      "source": [
        "Ở đây ta sẽ thay đổi giá trị cột `new` bằng giá trị của list `change_val`"
      ]
    },
    {
      "cell_type": "code",
      "execution_count": null,
      "metadata": {
        "id": "IhjkjWld0ZIT"
      },
      "outputs": [],
      "source": [
        "### BEGIN SOLUTION\n",
        "\n",
        "### END SOLUTION"
      ]
    }
  ],
  "metadata": {
    "colab": {
      "collapsed_sections": [
        "JrPJd0P90ZIO"
      ],
      "provenance": []
    },
    "kernelspec": {
      "display_name": "Python 3",
      "language": "python",
      "name": "python3"
    },
    "language_info": {
      "codemirror_mode": {
        "name": "ipython",
        "version": 3
      },
      "file_extension": ".py",
      "mimetype": "text/x-python",
      "name": "python",
      "nbconvert_exporter": "python",
      "pygments_lexer": "ipython3",
      "version": "3.11.3"
    },
    "orig_nbformat": 4
  },
  "nbformat": 4,
  "nbformat_minor": 0
}