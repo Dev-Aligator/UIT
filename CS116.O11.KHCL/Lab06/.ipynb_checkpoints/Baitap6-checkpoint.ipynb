{
  "cells": [
    {
      "cell_type": "markdown",
      "metadata": {
        "id": "pNRWUNx1rLhn"
      },
      "source": [
        "# BÀI 6: FEATURE SELECTION\n",
        "\n"
      ]
    },
    {
      "cell_type": "markdown",
      "metadata": {
        "id": "gJVS1_yxrLhq"
      },
      "source": [
        "Trong lĩnh vực máy học, việc lựa chọn đặc trưng là một phần quan trọng trong việc xây dựng mô hình. Điều này liên quan đến quá trình chọn ra một tập hợp con các đặc trưng quan trọng từ dữ liệu gốc. Mục tiêu của việc này là cải thiện hiệu suất của mô hình, giảm nguy cơ overfitting (quá khớp), và có thể làm tăng tốc độ huấn luyện mô hình.\n",
        "\n",
        "Trong notebook này, chúng ta sẽ tìm hiểu về các kỹ thuật phổ biến để lựa chọn đặc trưng, và để minh họa các phương pháp này, chúng ta sẽ sử dụng bộ dữ liệu `breast cancer` từ thư viện `scikit-learn`. Bộ dữ liệu này thường được sử dụng để phân loại ung thư vú và là một ví dụ tốt để thực hành các kỹ thuật lựa chọn đặc trưng."
      ]
    },
    {
      "cell_type": "markdown",
      "metadata": {
        "id": "k4rypNWbv_fd"
      },
      "source": [
        "## 1. Chuẩn bị dữ liệu"
      ]
    },
    {
      "cell_type": "markdown",
      "metadata": {
        "id": "sFue0NYMbWF9"
      },
      "source": [
        "Sau đây chúng ta sẽ sử dụng bộ dữ liệu `breast_cancer` có sẵn từ thư viện `sklearn` để tạo một dataframe. Bộ dữ liệu này thường được sử dụng để phân loại ung thư vú dựa trên các đặc trưng của mẫu .\n",
        "\n",
        "Cụ thể, ta sẽ thực hiện từng bước sau:\n",
        "\n",
        "1. Nhúng thư viện `sklearn.datasets` để tải bộ dữ liệu `breast_cancer`.\n",
        "\n",
        "2. Tải bộ dữ liệu `breast_cancer` bằng hàm `load_breast_cancer()` và lưu kết quả vào biến `breast_cancer`.\n",
        "\n",
        "3. Tạo một dataframe (`df`) từ dữ liệu của `breast_cancer`. DataFrame này sẽ chứa các đặc trưng (feature) của mẫu và cột 'target' để biểu thị nhãn (target) của mẫu, nghĩa là liệu mẫu đó là ung thư vú xấu (1) hay ung thư vú tốt (0).\n",
        "\n",
        "4. Xuất ra màn hình năm hàng đầu của dataframe để hiển thị thông tin về dữ liệu.\n",
        "\n",
        "Tổng quát, sau đây là đoạn mã chuẩn bị dữ liệu cho việc thực hành các phương pháp lựa chọn đặc trưng trên bộ dữ liệu ung thư vú."
      ]
    },
    {
      "cell_type": "code",
      "execution_count": 1,
      "metadata": {
        "colab": {
          "base_uri": "https://localhost:8080/",
          "height": 270
        },
        "id": "YH5Uq4UjrLhq",
        "outputId": "57111bf8-eaac-46ad-eec2-3d28a184d3ff"
      },
      "outputs": [
        {
          "data": {
            "text/html": [
              "\n",
              "  <div id=\"df-fda43df4-faf0-4c9b-9408-37771bf5190b\" class=\"colab-df-container\">\n",
              "    <div>\n",
              "<style scoped>\n",
              "    .dataframe tbody tr th:only-of-type {\n",
              "        vertical-align: middle;\n",
              "    }\n",
              "\n",
              "    .dataframe tbody tr th {\n",
              "        vertical-align: top;\n",
              "    }\n",
              "\n",
              "    .dataframe thead th {\n",
              "        text-align: right;\n",
              "    }\n",
              "</style>\n",
              "<table border=\"1\" class=\"dataframe\">\n",
              "  <thead>\n",
              "    <tr style=\"text-align: right;\">\n",
              "      <th></th>\n",
              "      <th>mean radius</th>\n",
              "      <th>mean texture</th>\n",
              "      <th>mean perimeter</th>\n",
              "      <th>mean area</th>\n",
              "      <th>mean smoothness</th>\n",
              "      <th>mean compactness</th>\n",
              "      <th>mean concavity</th>\n",
              "      <th>mean concave points</th>\n",
              "      <th>mean symmetry</th>\n",
              "      <th>mean fractal dimension</th>\n",
              "      <th>...</th>\n",
              "      <th>worst texture</th>\n",
              "      <th>worst perimeter</th>\n",
              "      <th>worst area</th>\n",
              "      <th>worst smoothness</th>\n",
              "      <th>worst compactness</th>\n",
              "      <th>worst concavity</th>\n",
              "      <th>worst concave points</th>\n",
              "      <th>worst symmetry</th>\n",
              "      <th>worst fractal dimension</th>\n",
              "      <th>target</th>\n",
              "    </tr>\n",
              "  </thead>\n",
              "  <tbody>\n",
              "    <tr>\n",
              "      <th>0</th>\n",
              "      <td>17.99</td>\n",
              "      <td>10.38</td>\n",
              "      <td>122.80</td>\n",
              "      <td>1001.0</td>\n",
              "      <td>0.11840</td>\n",
              "      <td>0.27760</td>\n",
              "      <td>0.3001</td>\n",
              "      <td>0.14710</td>\n",
              "      <td>0.2419</td>\n",
              "      <td>0.07871</td>\n",
              "      <td>...</td>\n",
              "      <td>17.33</td>\n",
              "      <td>184.60</td>\n",
              "      <td>2019.0</td>\n",
              "      <td>0.1622</td>\n",
              "      <td>0.6656</td>\n",
              "      <td>0.7119</td>\n",
              "      <td>0.2654</td>\n",
              "      <td>0.4601</td>\n",
              "      <td>0.11890</td>\n",
              "      <td>0</td>\n",
              "    </tr>\n",
              "    <tr>\n",
              "      <th>1</th>\n",
              "      <td>20.57</td>\n",
              "      <td>17.77</td>\n",
              "      <td>132.90</td>\n",
              "      <td>1326.0</td>\n",
              "      <td>0.08474</td>\n",
              "      <td>0.07864</td>\n",
              "      <td>0.0869</td>\n",
              "      <td>0.07017</td>\n",
              "      <td>0.1812</td>\n",
              "      <td>0.05667</td>\n",
              "      <td>...</td>\n",
              "      <td>23.41</td>\n",
              "      <td>158.80</td>\n",
              "      <td>1956.0</td>\n",
              "      <td>0.1238</td>\n",
              "      <td>0.1866</td>\n",
              "      <td>0.2416</td>\n",
              "      <td>0.1860</td>\n",
              "      <td>0.2750</td>\n",
              "      <td>0.08902</td>\n",
              "      <td>0</td>\n",
              "    </tr>\n",
              "    <tr>\n",
              "      <th>2</th>\n",
              "      <td>19.69</td>\n",
              "      <td>21.25</td>\n",
              "      <td>130.00</td>\n",
              "      <td>1203.0</td>\n",
              "      <td>0.10960</td>\n",
              "      <td>0.15990</td>\n",
              "      <td>0.1974</td>\n",
              "      <td>0.12790</td>\n",
              "      <td>0.2069</td>\n",
              "      <td>0.05999</td>\n",
              "      <td>...</td>\n",
              "      <td>25.53</td>\n",
              "      <td>152.50</td>\n",
              "      <td>1709.0</td>\n",
              "      <td>0.1444</td>\n",
              "      <td>0.4245</td>\n",
              "      <td>0.4504</td>\n",
              "      <td>0.2430</td>\n",
              "      <td>0.3613</td>\n",
              "      <td>0.08758</td>\n",
              "      <td>0</td>\n",
              "    </tr>\n",
              "    <tr>\n",
              "      <th>3</th>\n",
              "      <td>11.42</td>\n",
              "      <td>20.38</td>\n",
              "      <td>77.58</td>\n",
              "      <td>386.1</td>\n",
              "      <td>0.14250</td>\n",
              "      <td>0.28390</td>\n",
              "      <td>0.2414</td>\n",
              "      <td>0.10520</td>\n",
              "      <td>0.2597</td>\n",
              "      <td>0.09744</td>\n",
              "      <td>...</td>\n",
              "      <td>26.50</td>\n",
              "      <td>98.87</td>\n",
              "      <td>567.7</td>\n",
              "      <td>0.2098</td>\n",
              "      <td>0.8663</td>\n",
              "      <td>0.6869</td>\n",
              "      <td>0.2575</td>\n",
              "      <td>0.6638</td>\n",
              "      <td>0.17300</td>\n",
              "      <td>0</td>\n",
              "    </tr>\n",
              "    <tr>\n",
              "      <th>4</th>\n",
              "      <td>20.29</td>\n",
              "      <td>14.34</td>\n",
              "      <td>135.10</td>\n",
              "      <td>1297.0</td>\n",
              "      <td>0.10030</td>\n",
              "      <td>0.13280</td>\n",
              "      <td>0.1980</td>\n",
              "      <td>0.10430</td>\n",
              "      <td>0.1809</td>\n",
              "      <td>0.05883</td>\n",
              "      <td>...</td>\n",
              "      <td>16.67</td>\n",
              "      <td>152.20</td>\n",
              "      <td>1575.0</td>\n",
              "      <td>0.1374</td>\n",
              "      <td>0.2050</td>\n",
              "      <td>0.4000</td>\n",
              "      <td>0.1625</td>\n",
              "      <td>0.2364</td>\n",
              "      <td>0.07678</td>\n",
              "      <td>0</td>\n",
              "    </tr>\n",
              "  </tbody>\n",
              "</table>\n",
              "<p>5 rows × 31 columns</p>\n",
              "</div>\n",
              "    <div class=\"colab-df-buttons\">\n",
              "\n",
              "  <div class=\"colab-df-container\">\n",
              "    <button class=\"colab-df-convert\" onclick=\"convertToInteractive('df-fda43df4-faf0-4c9b-9408-37771bf5190b')\"\n",
              "            title=\"Convert this dataframe to an interactive table.\"\n",
              "            style=\"display:none;\">\n",
              "\n",
              "  <svg xmlns=\"http://www.w3.org/2000/svg\" height=\"24px\" viewBox=\"0 -960 960 960\">\n",
              "    <path d=\"M120-120v-720h720v720H120Zm60-500h600v-160H180v160Zm220 220h160v-160H400v160Zm0 220h160v-160H400v160ZM180-400h160v-160H180v160Zm440 0h160v-160H620v160ZM180-180h160v-160H180v160Zm440 0h160v-160H620v160Z\"/>\n",
              "  </svg>\n",
              "    </button>\n",
              "\n",
              "  <style>\n",
              "    .colab-df-container {\n",
              "      display:flex;\n",
              "      gap: 12px;\n",
              "    }\n",
              "\n",
              "    .colab-df-convert {\n",
              "      background-color: #E8F0FE;\n",
              "      border: none;\n",
              "      border-radius: 50%;\n",
              "      cursor: pointer;\n",
              "      display: none;\n",
              "      fill: #1967D2;\n",
              "      height: 32px;\n",
              "      padding: 0 0 0 0;\n",
              "      width: 32px;\n",
              "    }\n",
              "\n",
              "    .colab-df-convert:hover {\n",
              "      background-color: #E2EBFA;\n",
              "      box-shadow: 0px 1px 2px rgba(60, 64, 67, 0.3), 0px 1px 3px 1px rgba(60, 64, 67, 0.15);\n",
              "      fill: #174EA6;\n",
              "    }\n",
              "\n",
              "    .colab-df-buttons div {\n",
              "      margin-bottom: 4px;\n",
              "    }\n",
              "\n",
              "    [theme=dark] .colab-df-convert {\n",
              "      background-color: #3B4455;\n",
              "      fill: #D2E3FC;\n",
              "    }\n",
              "\n",
              "    [theme=dark] .colab-df-convert:hover {\n",
              "      background-color: #434B5C;\n",
              "      box-shadow: 0px 1px 3px 1px rgba(0, 0, 0, 0.15);\n",
              "      filter: drop-shadow(0px 1px 2px rgba(0, 0, 0, 0.3));\n",
              "      fill: #FFFFFF;\n",
              "    }\n",
              "  </style>\n",
              "\n",
              "    <script>\n",
              "      const buttonEl =\n",
              "        document.querySelector('#df-fda43df4-faf0-4c9b-9408-37771bf5190b button.colab-df-convert');\n",
              "      buttonEl.style.display =\n",
              "        google.colab.kernel.accessAllowed ? 'block' : 'none';\n",
              "\n",
              "      async function convertToInteractive(key) {\n",
              "        const element = document.querySelector('#df-fda43df4-faf0-4c9b-9408-37771bf5190b');\n",
              "        const dataTable =\n",
              "          await google.colab.kernel.invokeFunction('convertToInteractive',\n",
              "                                                    [key], {});\n",
              "        if (!dataTable) return;\n",
              "\n",
              "        const docLinkHtml = 'Like what you see? Visit the ' +\n",
              "          '<a target=\"_blank\" href=https://colab.research.google.com/notebooks/data_table.ipynb>data table notebook</a>'\n",
              "          + ' to learn more about interactive tables.';\n",
              "        element.innerHTML = '';\n",
              "        dataTable['output_type'] = 'display_data';\n",
              "        await google.colab.output.renderOutput(dataTable, element);\n",
              "        const docLink = document.createElement('div');\n",
              "        docLink.innerHTML = docLinkHtml;\n",
              "        element.appendChild(docLink);\n",
              "      }\n",
              "    </script>\n",
              "  </div>\n",
              "\n",
              "\n",
              "<div id=\"df-85894c94-b2bf-4de6-a110-9d1ef299b664\">\n",
              "  <button class=\"colab-df-quickchart\" onclick=\"quickchart('df-85894c94-b2bf-4de6-a110-9d1ef299b664')\"\n",
              "            title=\"Suggest charts\"\n",
              "            style=\"display:none;\">\n",
              "\n",
              "<svg xmlns=\"http://www.w3.org/2000/svg\" height=\"24px\"viewBox=\"0 0 24 24\"\n",
              "     width=\"24px\">\n",
              "    <g>\n",
              "        <path d=\"M19 3H5c-1.1 0-2 .9-2 2v14c0 1.1.9 2 2 2h14c1.1 0 2-.9 2-2V5c0-1.1-.9-2-2-2zM9 17H7v-7h2v7zm4 0h-2V7h2v10zm4 0h-2v-4h2v4z\"/>\n",
              "    </g>\n",
              "</svg>\n",
              "  </button>\n",
              "\n",
              "<style>\n",
              "  .colab-df-quickchart {\n",
              "      --bg-color: #E8F0FE;\n",
              "      --fill-color: #1967D2;\n",
              "      --hover-bg-color: #E2EBFA;\n",
              "      --hover-fill-color: #174EA6;\n",
              "      --disabled-fill-color: #AAA;\n",
              "      --disabled-bg-color: #DDD;\n",
              "  }\n",
              "\n",
              "  [theme=dark] .colab-df-quickchart {\n",
              "      --bg-color: #3B4455;\n",
              "      --fill-color: #D2E3FC;\n",
              "      --hover-bg-color: #434B5C;\n",
              "      --hover-fill-color: #FFFFFF;\n",
              "      --disabled-bg-color: #3B4455;\n",
              "      --disabled-fill-color: #666;\n",
              "  }\n",
              "\n",
              "  .colab-df-quickchart {\n",
              "    background-color: var(--bg-color);\n",
              "    border: none;\n",
              "    border-radius: 50%;\n",
              "    cursor: pointer;\n",
              "    display: none;\n",
              "    fill: var(--fill-color);\n",
              "    height: 32px;\n",
              "    padding: 0;\n",
              "    width: 32px;\n",
              "  }\n",
              "\n",
              "  .colab-df-quickchart:hover {\n",
              "    background-color: var(--hover-bg-color);\n",
              "    box-shadow: 0 1px 2px rgba(60, 64, 67, 0.3), 0 1px 3px 1px rgba(60, 64, 67, 0.15);\n",
              "    fill: var(--button-hover-fill-color);\n",
              "  }\n",
              "\n",
              "  .colab-df-quickchart-complete:disabled,\n",
              "  .colab-df-quickchart-complete:disabled:hover {\n",
              "    background-color: var(--disabled-bg-color);\n",
              "    fill: var(--disabled-fill-color);\n",
              "    box-shadow: none;\n",
              "  }\n",
              "\n",
              "  .colab-df-spinner {\n",
              "    border: 2px solid var(--fill-color);\n",
              "    border-color: transparent;\n",
              "    border-bottom-color: var(--fill-color);\n",
              "    animation:\n",
              "      spin 1s steps(1) infinite;\n",
              "  }\n",
              "\n",
              "  @keyframes spin {\n",
              "    0% {\n",
              "      border-color: transparent;\n",
              "      border-bottom-color: var(--fill-color);\n",
              "      border-left-color: var(--fill-color);\n",
              "    }\n",
              "    20% {\n",
              "      border-color: transparent;\n",
              "      border-left-color: var(--fill-color);\n",
              "      border-top-color: var(--fill-color);\n",
              "    }\n",
              "    30% {\n",
              "      border-color: transparent;\n",
              "      border-left-color: var(--fill-color);\n",
              "      border-top-color: var(--fill-color);\n",
              "      border-right-color: var(--fill-color);\n",
              "    }\n",
              "    40% {\n",
              "      border-color: transparent;\n",
              "      border-right-color: var(--fill-color);\n",
              "      border-top-color: var(--fill-color);\n",
              "    }\n",
              "    60% {\n",
              "      border-color: transparent;\n",
              "      border-right-color: var(--fill-color);\n",
              "    }\n",
              "    80% {\n",
              "      border-color: transparent;\n",
              "      border-right-color: var(--fill-color);\n",
              "      border-bottom-color: var(--fill-color);\n",
              "    }\n",
              "    90% {\n",
              "      border-color: transparent;\n",
              "      border-bottom-color: var(--fill-color);\n",
              "    }\n",
              "  }\n",
              "</style>\n",
              "\n",
              "  <script>\n",
              "    async function quickchart(key) {\n",
              "      const quickchartButtonEl =\n",
              "        document.querySelector('#' + key + ' button');\n",
              "      quickchartButtonEl.disabled = true;  // To prevent multiple clicks.\n",
              "      quickchartButtonEl.classList.add('colab-df-spinner');\n",
              "      try {\n",
              "        const charts = await google.colab.kernel.invokeFunction(\n",
              "            'suggestCharts', [key], {});\n",
              "      } catch (error) {\n",
              "        console.error('Error during call to suggestCharts:', error);\n",
              "      }\n",
              "      quickchartButtonEl.classList.remove('colab-df-spinner');\n",
              "      quickchartButtonEl.classList.add('colab-df-quickchart-complete');\n",
              "    }\n",
              "    (() => {\n",
              "      let quickchartButtonEl =\n",
              "        document.querySelector('#df-85894c94-b2bf-4de6-a110-9d1ef299b664 button');\n",
              "      quickchartButtonEl.style.display =\n",
              "        google.colab.kernel.accessAllowed ? 'block' : 'none';\n",
              "    })();\n",
              "  </script>\n",
              "</div>\n",
              "    </div>\n",
              "  </div>\n"
            ],
            "text/plain": [
              "   mean radius  mean texture  mean perimeter  mean area  mean smoothness  \\\n",
              "0        17.99         10.38          122.80     1001.0          0.11840   \n",
              "1        20.57         17.77          132.90     1326.0          0.08474   \n",
              "2        19.69         21.25          130.00     1203.0          0.10960   \n",
              "3        11.42         20.38           77.58      386.1          0.14250   \n",
              "4        20.29         14.34          135.10     1297.0          0.10030   \n",
              "\n",
              "   mean compactness  mean concavity  mean concave points  mean symmetry  \\\n",
              "0           0.27760          0.3001              0.14710         0.2419   \n",
              "1           0.07864          0.0869              0.07017         0.1812   \n",
              "2           0.15990          0.1974              0.12790         0.2069   \n",
              "3           0.28390          0.2414              0.10520         0.2597   \n",
              "4           0.13280          0.1980              0.10430         0.1809   \n",
              "\n",
              "   mean fractal dimension  ...  worst texture  worst perimeter  worst area  \\\n",
              "0                 0.07871  ...          17.33           184.60      2019.0   \n",
              "1                 0.05667  ...          23.41           158.80      1956.0   \n",
              "2                 0.05999  ...          25.53           152.50      1709.0   \n",
              "3                 0.09744  ...          26.50            98.87       567.7   \n",
              "4                 0.05883  ...          16.67           152.20      1575.0   \n",
              "\n",
              "   worst smoothness  worst compactness  worst concavity  worst concave points  \\\n",
              "0            0.1622             0.6656           0.7119                0.2654   \n",
              "1            0.1238             0.1866           0.2416                0.1860   \n",
              "2            0.1444             0.4245           0.4504                0.2430   \n",
              "3            0.2098             0.8663           0.6869                0.2575   \n",
              "4            0.1374             0.2050           0.4000                0.1625   \n",
              "\n",
              "   worst symmetry  worst fractal dimension  target  \n",
              "0          0.4601                  0.11890       0  \n",
              "1          0.2750                  0.08902       0  \n",
              "2          0.3613                  0.08758       0  \n",
              "3          0.6638                  0.17300       0  \n",
              "4          0.2364                  0.07678       0  \n",
              "\n",
              "[5 rows x 31 columns]"
            ]
          },
          "execution_count": 1,
          "metadata": {},
          "output_type": "execute_result"
        }
      ],
      "source": [
        "# Sử dụng breast_cancer dataset có sẵn từ sklearn\n",
        "from sklearn.datasets import load_breast_cancer\n",
        "import pandas as pd\n",
        "\n",
        "breast_cancer = load_breast_cancer()\n",
        "df = pd.DataFrame(breast_cancer.data, columns=breast_cancer.feature_names)\n",
        "df['target'] = breast_cancer.target\n",
        "df.head()"
      ]
    },
    {
      "cell_type": "code",
      "execution_count": null,
      "metadata": {
        "colab": {
          "base_uri": "https://localhost:8080/"
        },
        "id": "fjeu-0JOrLhr",
        "outputId": "13a11793-b95e-4bb9-edd3-95c6c5fd79e3"
      },
      "outputs": [],
      "source": [
        "df.info()"
      ]
    },
    {
      "cell_type": "markdown",
      "metadata": {
        "id": "YFmSy44prLhs"
      },
      "source": [
        "## 2. Pearson's correlation matrix"
      ]
    },
    {
      "cell_type": "markdown",
      "metadata": {
        "id": "PKYr-xlKrLhs"
      },
      "source": [
        "Tương quan Pearson là một phép đo đo lường mối quan hệ tuyến tính giữa hai biến liên tục. Giá trị của tương quan Pearson nằm trong khoảng từ -1 (khi có mối quan hệ tuyến tính hoàn toàn âm) đến 1 (khi có mối quan hệ tuyến tính hoàn toàn dương). Nếu tương quan là 0, đó cho thấy rằng không có mối quan hệ tuyến tính giữa hai biến. Chúng ta có thể sử dụng `tương quan Pearson` để xác định mức độ tương quan giữa các đặc trưng hoặc giữa một đặc trưng và biến mục tiêu.\n",
        "\n",
        "Nói cách khác, `tương quan Pearson` cho phép chúng ta đo lường sự biến đổi của một biến khi biến kia thay đổi. Nếu tương quan gần 1, tức là khi một biến tăng thì biến kia cũng tăng theo một cách tuyến tính. Nếu tương quan gần -1, đó là một mối quan hệ tuyến tính đảo ngược, tức là khi một biến tăng thì biến kia giảm và ngược lại. Khi tương quan gần 0, không có mối tương quan tuyến tính giữa hai biến. `Tương quan Pearson` là một công cụ quan trọng để `phân tích sự tương quan giữa các biến` và có thể giúp chúng ta lựa chọn đặc trưng quan trọng trong việc xây dựng mô hình máy học."
      ]
    },
    {
      "cell_type": "markdown",
      "metadata": {
        "id": "hez3UJzTrLhs"
      },
      "source": [
        "**Bài tập**: Hãy viết hàm nhận vào dataframe và tải về dataframe là correlation matrix\n",
        "từ phương thức `corr()` của class `pandas.DataFrame` với tham số `method = \"pearson\"`"
      ]
    },
    {
      "cell_type": "code",
      "execution_count": 3,
      "metadata": {
        "id": "Kpq2lzTurLht"
      },
      "outputs": [],
      "source": [
        "def get_pearson_corr_matrix(df: pd.DataFrame) -> pd.DataFrame:\n",
        "    # YOUR CODE HERE\n",
        "\n",
        "    ### BEGIN SOLUTION\n",
        "\n",
        "    ### END SOLUTION\n",
        "    pass"
      ]
    },
    {
      "cell_type": "code",
      "execution_count": 4,
      "metadata": {
        "id": "VpvSqU7QrLht"
      },
      "outputs": [],
      "source": [
        "# Tạo correlation matrix từ hàm đã viết\n",
        "corr_matrix = get_pearson_corr_matrix(df)"
      ]
    },
    {
      "cell_type": "code",
      "execution_count": 5,
      "metadata": {
        "id": "fuMVVLXnrLht"
      },
      "outputs": [],
      "source": [
        "# Kiểm tra với public tests\n",
        "assert corr_matrix.__class__ is pd.DataFrame"
      ]
    },
    {
      "cell_type": "markdown",
      "metadata": {
        "id": "qgP6ZOkarLht"
      },
      "source": [
        "Tiếp theo, ta sẽ trực quan hoá kết quả `correlation matrix` bằng cách sử dụng thư viện `matplotlib` và `seaborn`."
      ]
    },
    {
      "cell_type": "code",
      "execution_count": null,
      "metadata": {
        "colab": {
          "base_uri": "https://localhost:8080/",
          "height": 1000
        },
        "id": "EV5FiL4irLhu",
        "outputId": "fd8f6cd0-e534-4928-cfc6-694452ad1741"
      },
      "outputs": [],
      "source": [
        "import seaborn as sns\n",
        "import matplotlib.pyplot as plt\n",
        "\n",
        "plt.figure(figsize=(20, 17))\n",
        "sns.heatmap(corr_matrix.round(2), annot=True, cmap='coolwarm')\n",
        "plt.show()"
      ]
    },
    {
      "cell_type": "markdown",
      "metadata": {
        "id": "PNFbprUhrLhu"
      },
      "source": [
        "## 3. Linear Discriminant Analysis (LDA)"
      ]
    },
    {
      "cell_type": "markdown",
      "metadata": {
        "id": "iXxwVeEqrLhu"
      },
      "source": [
        "LDA là một kỹ thuật trong lĩnh vực xử lý dữ liệu và máy học. Mục tiêu chính của LDA là giảm số chiều của dữ liệu mà vẫn bảo toàn được thông tin quan trọng. Đặc biệt, LDA tập trung vào việc tối đa hóa sự phân tách (discrimination) giữa các lớp khác nhau trong dữ liệu, đặc biệt là trong bài toán phân loại.\n",
        "\n",
        "Khi chúng ta nói về \"tối đa hóa sự phân tách,\" điều này có nghĩa là LDA cố gắng tạo ra các hướng mà khi dữ liệu được chiếu lên các hướng đó, sự khác biệt giữa các lớp trở nên rõ rệt nhất. Điều này giúp cho việc phân loại dễ dàng hơn, vì các điểm dữ liệu thuộc các lớp khác nhau sẽ gần nhau hơn trong không gian mới sau khi chiếu.\n",
        "\n",
        "LDA cũng quan tâm đến việc tối đa hóa tỷ lệ phương sai giữa các lớp, có nghĩa là nó cố gắng làm cho phương sai (biến động) giữa các điểm dữ liệu của các lớp khác nhau lớn hơn so với phương sai trong cùng một lớp. Điều này cũng đóng vai trò quan trọng trong việc tạo ra các hướng tối ưu để phân tách dữ liệu.\n",
        "\n",
        "Tóm lại, LDA là một kỹ thuật quan trọng trong việc giảm chiều dữ liệu, đặc biệt trong bài toán phân loại, và nó hoạt động bằng cách xác định các hướng tối ưu để tối đa hóa sự phân tách giữa các lớp và tối đa hóa tỷ lệ phương sai giữa các lớp."
      ]
    },
    {
      "cell_type": "markdown",
      "metadata": {
        "id": "73rI7MkJrLhu"
      },
      "source": [
        "**Bài tập**: Hãy viết hàm nhận vào dataframe và tên cột chứa đặc trưng đích (target)\n",
        "và trả về mảng chứa kết quả từ `LDA` sử dụng class `LinearDiscriminantAnalysis`\n",
        "từ thư viện `sklearn`"
      ]
    },
    {
      "cell_type": "code",
      "execution_count": 8,
      "metadata": {
        "id": "xUlu46f1rLhu"
      },
      "outputs": [],
      "source": [
        "from sklearn.discriminant_analysis import LinearDiscriminantAnalysis\n",
        "import numpy as np\n",
        "\n",
        "def lda(df: pd.DataFrame, target_col: str) -> np.ndarray:\n",
        "    # YOUR CODE HERE\n",
        "\n",
        "    ### BEGIN SOLUTION\n",
        "\n",
        "    ### END SOLUTION\n",
        "    pass"
      ]
    },
    {
      "cell_type": "code",
      "execution_count": 9,
      "metadata": {
        "id": "kTOHuy7KrLhu"
      },
      "outputs": [],
      "source": [
        "# Tính toán kết quả từ hàm đã viết bên trên\n",
        "lda_result = lda(df, \"target\")"
      ]
    },
    {
      "cell_type": "code",
      "execution_count": 10,
      "metadata": {
        "id": "6vB05PiNrLhu"
      },
      "outputs": [],
      "source": [
        "# Kiểm tra với public tests\n",
        "assert len(lda_result) == df.shape[0]"
      ]
    },
    {
      "cell_type": "markdown",
      "metadata": {
        "id": "VIgUI4MgrLhv"
      },
      "source": [
        "Chúng ta cũng sẽ trực quan hoá kết quả LDA sử dụng thư viện `matplotlib` và `seaborn`."
      ]
    },
    {
      "cell_type": "code",
      "execution_count": null,
      "metadata": {
        "colab": {
          "base_uri": "https://localhost:8080/",
          "height": 564
        },
        "id": "39zV8TxtrLhv",
        "outputId": "06c11144-de2a-43ce-dd30-e79e2ac7c9ad"
      },
      "outputs": [],
      "source": [
        "plt.figure(figsize=(8, 6))\n",
        "sns.scatterplot(x=lda_result[:, 0], y=lda_result[:, 0], hue=df[\"target\"])\n",
        "plt.title('LDA Result')\n",
        "plt.xlabel('LDA Component 1')\n",
        "plt.ylabel('LDA Component 1')\n",
        "plt.legend()\n",
        "plt.show()"
      ]
    },
    {
      "cell_type": "markdown",
      "metadata": {
        "id": "qIml3uRJrLhv"
      },
      "source": [
        "## 4. Loại bỏ những đặc trưng có độ tương đồng cao"
      ]
    },
    {
      "cell_type": "markdown",
      "metadata": {
        "id": "yAErv6iMrLhv"
      },
      "source": [
        "Các đặc trưng trong dữ liệu có tương quan cao có thể gây ra một số vấn đề quan trọng trong quá trình xây dựng mô hình máy học. Một trong những vấn đề quan trọng đó là hiện tượng đa cộng tuyến (multicollinearity). Đa cộng tuyến xảy ra khi hai hoặc nhiều đặc trưng trong dữ liệu có mối quan hệ mạnh với nhau, nghĩa là chúng biến đổi cùng hướng hoặc ngược hướng khi dữ liệu thay đổi. Điều này có thể làm cho mô hình không ổn định và khó xác định đối với các đặc trưng riêng lẻ.\n",
        "\n",
        "Một vấn đề khác là sự dư thừa trong dữ liệu. Khi hai đặc trưng tương quan cao, nó có nghĩa rằng thông tin từ cả hai đặc trưng có thể trùng lặp hoặc chỉ cung cấp thông tin tương tự cho mô hình. Điều này có thể dẫn đến việc dư thừa trong dữ liệu, khi mà một số đặc trưng không đóng góp thêm thông tin giá trị cho mô hình mà chỉ làm tăng độ phức tạp của nó.\n",
        "\n",
        "Để giải quyết vấn đề này, tốt nhất là xác định và loại bỏ các đặc trưng có tương quan cao với nhau. Bằng cách này, chúng ta có thể giảm đa cộng tuyến và loại bỏ sự dư thừa trong dữ liệu, giúp mô hình hoạt động tốt hơn và dễ dàng giải thích. Việc lựa chọn các đặc trưng quan trọng và loại bỏ những đặc trưng không quan trọng có thể cải thiện hiệu suất của mô hình và giảm độ phức tạp của nó."
      ]
    },
    {
      "cell_type": "markdown",
      "metadata": {
        "id": "8PHiNO3crLhv"
      },
      "source": [
        "**Bài tập**: Hãy viết hàm nhận vào `dataframe` và `threshold` và trả về `dataframe`\n",
        "đã được loại bỏ những đặc trưng sao cho không xuất hiện bất kỳ 2 đặc trưng nào\n",
        "có giá trị tuyệt đối độ tương đồng vượt qua ngưỡng threshold.\n",
        "\n",
        "**Lưu ý:** giữ lại đặc trưng ***target***"
      ]
    },
    {
      "cell_type": "code",
      "execution_count": 13,
      "metadata": {
        "id": "WjAvZyJerLhv"
      },
      "outputs": [],
      "source": [
        "def drop_highly_correlated_features(df: pd.DataFrame, threshold: float) -> pd.DataFrame:\n",
        "    # YOUR CODE HERE\n",
        "\n",
        "    ### BEGIN SOLUTION\n",
        "\n",
        "    ### END SOLUTION\n",
        "    pass"
      ]
    },
    {
      "cell_type": "code",
      "execution_count": 14,
      "metadata": {
        "id": "WdiRigiRrLhv"
      },
      "outputs": [],
      "source": [
        "# Khởi tạo giá trị correlation_threshold là 0.7\n",
        "correlation_threshold = 0.7\n",
        "# Tiến hành loại bỏ những đặc trưng\n",
        "df = drop_highly_correlated_features(df, correlation_threshold)"
      ]
    },
    {
      "cell_type": "code",
      "execution_count": 15,
      "metadata": {
        "id": "VCGU_eolrLhv"
      },
      "outputs": [],
      "source": [
        "# Kiểm tra với public tests\n",
        "assert df.shape[1] == 11\n",
        "assert \"target\" in df.columns"
      ]
    },
    {
      "cell_type": "markdown",
      "metadata": {
        "id": "C6qctpNdrLhv"
      },
      "source": [
        "Chúng ta sẽ trực quan hoá kết quả `correlation matrix` sau khi đã loại bỏ những đặc trưng có độ tương đồng cao."
      ]
    },
    {
      "cell_type": "code",
      "execution_count": null,
      "metadata": {
        "colab": {
          "base_uri": "https://localhost:8080/",
          "height": 1000
        },
        "id": "nT5rPeh9rLhv",
        "outputId": "5c998082-c701-4b09-b59d-6a41f8c24d76"
      },
      "outputs": [],
      "source": [
        "corr_matrix = get_pearson_corr_matrix(df)\n",
        "plt.figure(figsize=(20, 17))\n",
        "sns.heatmap(corr_matrix.round(2), annot=True, cmap='coolwarm')\n",
        "plt.show()"
      ]
    },
    {
      "cell_type": "markdown",
      "metadata": {
        "id": "M_QB37pfrLhw"
      },
      "source": [
        "## 5. Sử dụng mô hình Decision Tree đơn giản để dự đoán"
      ]
    },
    {
      "cell_type": "markdown",
      "metadata": {
        "id": "t_c_yOFSrLhw"
      },
      "source": [
        "Cây quyết định là một thuật toán phân loại đơn giản nhưng mạnh mẽ trong lĩnh vực máy học. Đây là cách mô hình hoạt động: Chúng ta xây dựng một cây quyết định bằng cách chia dữ liệu dựa trên các đặc trưng đã chọn và các quy tắc quyết định. Cây này có cấu trúc phân nhánh với các nút quyết định và các lá cây đại diện cho các phân lớp hoặc giá trị dự đoán.\n",
        "\n",
        "Một trong những điểm mạnh của cây quyết định là khả năng cung cấp cái nhìn chi tiết về tính quan trọng của từng đặc trưng. Cụ thể, cây quyết định cho phép chúng ta biết được mức độ quyết định của mỗi đặc trưng trong quá trình phân loại. Các đặc trưng quan trọng sẽ nằm ở trên cận gốc của cây, trong khi những đặc trưng ít quan trọng hơn có thể nằm ở phía dưới.\n",
        "\n",
        "Ngoài ra, cây quyết định cũng cho phép chúng ta hiểu tương tác giữa các đặc trưng. Một đặc trưng có thể được sử dụng để quyết định tại nút gốc của cây và sau đó được kết hợp với các đặc trưng khác ở các nút con. Điều này giúp chúng ta hiểu cách các đặc trưng tương tác với nhau trong quá trình phân loại.\n",
        "\n",
        "Tóm lại, cây quyết định không chỉ là một mô hình phân loại hiệu quả mà còn cung cấp cái nhìn sâu hơn về tính quan trọng của các đặc trưng và cách chúng tương tác với nhau trong quá trình quyết định. Điều này có thể giúp chúng ta hiểu rõ hơn về dữ liệu và mô hình của mình, và có khả năng tối ưu hóa mô hình để đạt được hiệu suất tốt hơn."
      ]
    },
    {
      "cell_type": "code",
      "execution_count": 25,
      "metadata": {
        "colab": {
          "base_uri": "https://localhost:8080/"
        },
        "id": "ItH-a-Q0rLhw",
        "outputId": "f3d3b43e-a5a2-416e-b6f5-b97c4e1ddd07"
      },
      "outputs": [
        {
          "name": "stdout",
          "output_type": "stream",
          "text": [
            "Accuracy: 0.868421052631579\n"
          ]
        }
      ],
      "source": [
        "from sklearn.model_selection import train_test_split\n",
        "from sklearn.tree import DecisionTreeClassifier\n",
        "from sklearn.metrics import accuracy_score\n",
        "\n",
        "np.random.seed(42)\n",
        "\n",
        "X_train, X_test, y_train, y_test = train_test_split(\n",
        "    df.drop(\"target\", axis=1),\n",
        "    df[\"target\"],\n",
        "    test_size=0.2,\n",
        "    random_state=42\n",
        ")\n",
        "\n",
        "clf = DecisionTreeClassifier()\n",
        "clf.fit(X_train, y_train)\n",
        "y_pred = clf.predict(X_test)\n",
        "accuracy = accuracy_score(y_test, y_pred)\n",
        "print(\"Accuracy:\", accuracy)"
      ]
    },
    {
      "cell_type": "markdown",
      "metadata": {
        "id": "2qfQ8tehrLhw"
      },
      "source": [
        "# Kết luận\n",
        "Việc lựa chọn đặc trưng hiệu quả cải thiện hiệu suất mô hình, tính giải thích và khả năng tổng quát hóa. Trong notebook này, chúng ta đã khám phá một số kỹ thuật, bao gồm tương quan Pearson, phân tích Đa biến LDA, loại bỏ các đặc trưng có tương quan cao và sử dụng cây quyết định đơn giản để phân loại. Áp dụng những kỹ thuật này vào bộ dữ liệu ung thư vú có thể giúp chúng ta hiểu rõ tính quan trọng của các đặc trưng khác nhau trong việc phân biệt giữa các khối u lành tính và ác tính."
      ]
    }
  ],
  "metadata": {
    "colab": {
      "provenance": []
    },
    "kernelspec": {
      "display_name": "Python 3",
      "language": "python",
      "name": "python3"
    },
    "language_info": {
      "codemirror_mode": {
        "name": "ipython",
        "version": 3
      },
      "file_extension": ".py",
      "mimetype": "text/x-python",
      "name": "python",
      "nbconvert_exporter": "python",
      "pygments_lexer": "ipython3",
      "version": "3.10.6"
    },
    "orig_nbformat": 4
  },
  "nbformat": 4,
  "nbformat_minor": 0
}
