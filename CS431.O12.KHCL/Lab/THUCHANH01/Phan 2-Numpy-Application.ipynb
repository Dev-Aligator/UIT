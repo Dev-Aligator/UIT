{
 "cells": [
  {
   "cell_type": "markdown",
   "id": "e592e70d",
   "metadata": {
    "id": "e592e70d"
   },
   "source": [
    "# CS431 - CÁC KỸ THUẬT HỌC SÂU VÀ ỨNG DỤNG\n",
    "\n",
    "**Hướng dẫn**:\n",
    "- Hoàn tất tất cả các mục có comment `YOUR CODE HERE`\n"
   ]
  },
  {
   "cell_type": "markdown",
   "id": "0f4295c9",
   "metadata": {
    "id": "0f4295c9"
   },
   "source": [
    "---"
   ]
  },
  {
   "cell_type": "markdown",
   "id": "49af67b0-7a29-43bc-b722-b4c2886278a1",
   "metadata": {
    "deletable": false,
    "editable": false,
    "id": "49af67b0-7a29-43bc-b722-b4c2886278a1",
    "nbgrader": {
     "cell_type": "markdown",
     "checksum": "cdebdb15fda9de9a70b53d828f83f0cb",
     "grade": false,
     "grade_id": "cell-9f2b31497f63a1e2",
     "locked": true,
     "schema_version": 3,
     "solution": false,
     "task": false
    },
    "tags": []
   },
   "source": [
    "# LUYỆN TẬP NUMPY - PHẦN 2"
   ]
  },
  {
   "cell_type": "code",
   "execution_count": 1,
   "id": "ffbda004-b601-41ea-bce3-dc7d7dc5699e",
   "metadata": {
    "deletable": false,
    "editable": false,
    "id": "ffbda004-b601-41ea-bce3-dc7d7dc5699e",
    "nbgrader": {
     "cell_type": "code",
     "checksum": "20f8fd7c3ba8025c848409ae099512c9",
     "grade": false,
     "grade_id": "cell-51656441c20976c5",
     "locked": true,
     "schema_version": 3,
     "solution": false,
     "task": false
    },
    "tags": []
   },
   "outputs": [],
   "source": [
    "import numpy as np"
   ]
  },
  {
   "cell_type": "markdown",
   "id": "79ee44ca-e03d-4069-ac56-1f2d711d52b3",
   "metadata": {
    "deletable": false,
    "editable": false,
    "id": "79ee44ca-e03d-4069-ac56-1f2d711d52b3",
    "nbgrader": {
     "cell_type": "markdown",
     "checksum": "47e92cdde1ba2ee7e8f05f64ff38020b",
     "grade": false,
     "grade_id": "cell-599c3f7c59bb5006",
     "locked": true,
     "schema_version": 3,
     "solution": false,
     "task": false
    },
    "tags": []
   },
   "source": [
    "## Bài 1: Gửi tiết kiệm\n",
    "Tính số tiền còn lại trong tài khoản ngân hàng với đầu vào là\n",
    "danh sách các số tiền giao dịch, tương ứng là sẽ có danh sách\n",
    "các loại giao dịch gửi tiền (ký hiệu bằng chuỗi 'D'), rút tiền\n",
    "(ký hiệu bằng chuỗi 'W')\n",
    "\n",
    "**Input:**\n",
    "   - moneys: kiểu numpy array, chứa danh sách các số tiền giao dịch\n",
    "   (gửi và rút khỏi tài khoản)\n",
    "   - types: kiểu numpy array, chứa danh sách các loại giao dịch\n",
    "   (gửi ký hiệu là 'D', rút ký hiệu là 'W')\n",
    "\n",
    "**Output:**\n",
    "   - Kiểu số thực, số tiền còn lại trong tài khoản"
   ]
  },
  {
   "cell_type": "markdown",
   "id": "bb0d9700-c506-4cf3-8046-95a6acab07a0",
   "metadata": {
    "deletable": false,
    "editable": false,
    "id": "bb0d9700-c506-4cf3-8046-95a6acab07a0",
    "nbgrader": {
     "cell_type": "markdown",
     "checksum": "016aa6294e59f6bb75dd3b9388297276",
     "grade": false,
     "grade_id": "cell-0047ac8f0bea8431",
     "locked": true,
     "schema_version": 3,
     "solution": false,
     "task": false
    },
    "tags": []
   },
   "source": [
    "Ví dụ:\n",
    "\n",
    "Input:\n",
    "```\n",
    "moneys = [400.0, 100.0, 200.0]\n",
    "types = ['D', 'W', 'D']\n",
    "```\n",
    "\n",
    "Output:\n",
    "```\n",
    "500.0\n",
    "```"
   ]
  },
  {
   "cell_type": "code",
   "execution_count": 2,
   "id": "c5a81c42-615c-4372-8865-3c7b0e3e5b39",
   "metadata": {
    "deletable": false,
    "id": "c5a81c42-615c-4372-8865-3c7b0e3e5b39",
    "nbgrader": {
     "cell_type": "code",
     "checksum": "b336f36af39d7eefe1c11c09a2b18271",
     "grade": false,
     "grade_id": "cell-048577ccfe8e62c6",
     "locked": false,
     "schema_version": 3,
     "solution": true,
     "task": false
    },
    "tags": []
   },
   "outputs": [],
   "source": [
    "def balance(moneys, types):\n",
    "    remaining_balance = 0.0\n",
    "    \n",
    "    # Duyệt qua từng giao dịch và loại giao dịch tương ứng\n",
    "    for money, transaction_type in zip(moneys, types):\n",
    "        if transaction_type == 'D':\n",
    "            # Nếu là giao dịch gửi tiền ('D'), thì cộng vào số tiền còn lại\n",
    "            remaining_balance += money\n",
    "        elif transaction_type == 'W':\n",
    "            # Nếu là giao dịch rút tiền ('W'), thì trừ đi từ số tiền còn lại\n",
    "            remaining_balance -= money\n",
    "    \n",
    "    return remaining_balance"
   ]
  },
  {
   "cell_type": "code",
   "execution_count": 3,
   "id": "386fc1a8-641f-4a57-8524-6e21fc9ded6f",
   "metadata": {
    "deletable": false,
    "editable": false,
    "id": "386fc1a8-641f-4a57-8524-6e21fc9ded6f",
    "nbgrader": {
     "cell_type": "code",
     "checksum": "16f0927f3a4eec80c72e1f556f8f7f11",
     "grade": false,
     "grade_id": "cell-c50fd751a759e54d",
     "locked": true,
     "schema_version": 3,
     "solution": false,
     "task": false
    },
    "tags": []
   },
   "outputs": [
    {
     "data": {
      "text/plain": [
       "500.0"
      ]
     },
     "execution_count": 3,
     "metadata": {},
     "output_type": "execute_result"
    }
   ],
   "source": [
    "# thử nghiệm với ví dụ của đề bài\n",
    "balance(np.array([400.0, 100.0, 200.0]), np.array(['D', 'W', 'D']))"
   ]
  },
  {
   "cell_type": "code",
   "execution_count": 4,
   "id": "a0f2ae1f-0e96-4f51-938e-2e3e634c36f3",
   "metadata": {
    "deletable": false,
    "editable": false,
    "id": "a0f2ae1f-0e96-4f51-938e-2e3e634c36f3",
    "nbgrader": {
     "cell_type": "code",
     "checksum": "624dc62b36bb7efcd8840ac39fdcc486",
     "grade": true,
     "grade_id": "cell-e03038c165ddaafc",
     "locked": true,
     "points": 5,
     "schema_version": 3,
     "solution": false,
     "task": false
    },
    "tags": []
   },
   "outputs": [],
   "source": [
    "# cell chấm điểm 1\n",
    "assert balance(np.array([400.0, 100.0, 200.0]), np.array(['D', 'W', 'D'])) == 500"
   ]
  },
  {
   "cell_type": "code",
   "execution_count": 5,
   "id": "f88d11f6-913a-406d-930e-bf5b73781ee4",
   "metadata": {
    "deletable": false,
    "editable": false,
    "id": "f88d11f6-913a-406d-930e-bf5b73781ee4",
    "nbgrader": {
     "cell_type": "code",
     "checksum": "c08bce416cdbf56997edb184a9858748",
     "grade": true,
     "grade_id": "cell-839d4d8b7de04b4c",
     "locked": true,
     "points": 5,
     "schema_version": 3,
     "solution": false,
     "task": false
    },
    "tags": []
   },
   "outputs": [],
   "source": [
    "# cell chấm điểm 2"
   ]
  },
  {
   "cell_type": "markdown",
   "id": "a1db6dcc-c10a-438d-bd73-5ad1fea01bfc",
   "metadata": {
    "deletable": false,
    "editable": false,
    "id": "a1db6dcc-c10a-438d-bd73-5ad1fea01bfc",
    "nbgrader": {
     "cell_type": "markdown",
     "checksum": "4c657387e532ac520b6c1319359cfc24",
     "grade": false,
     "grade_id": "cell-4f7b69e87c62d7e6",
     "locked": true,
     "schema_version": 3,
     "solution": false,
     "task": false
    },
    "tags": []
   },
   "source": [
    "## Bài 2: Điểm trung bình\n",
    "Tính điểm trung bình của một bạn sinh viên biết trước danh sách các điểm số và số tín chỉ của từng môn học.\n",
    "\n",
    "**Input:**\n",
    "   - marks: kiểu List, gồm *n* phần tử. Đây là điểm các môn của một sinh viên.\n",
    "   - credits: kiểu List, gồm *n* phần tử. Đây là số tín chỉ lần lượt của các môn.   \n",
    "   \n",
    "**Output:**\n",
    "   - Kiểu số thực, điểm trung bình của các môn học của sinh viên"
   ]
  },
  {
   "cell_type": "markdown",
   "id": "9a87e73a-0e51-44ad-96d8-97160246defc",
   "metadata": {
    "deletable": false,
    "editable": false,
    "id": "9a87e73a-0e51-44ad-96d8-97160246defc",
    "nbgrader": {
     "cell_type": "markdown",
     "checksum": "d6159a3a3472f3411268fa07142323ae",
     "grade": false,
     "grade_id": "cell-74596ab47645e3b1",
     "locked": true,
     "schema_version": 3,
     "solution": false,
     "task": false
    },
    "tags": []
   },
   "source": [
    "Ví dụ:\n",
    "\n",
    "Input:\n",
    "```\n",
    "marks = [8.0, 9.0, 10.0]\n",
    "credits = [2, 2, 1]\n",
    "```\n",
    "\n",
    "Output:\n",
    "```\n",
    "8.8\n",
    "```"
   ]
  },
  {
   "cell_type": "code",
   "execution_count": 30,
   "id": "efd240a1-0640-4901-983d-e2cf3e7c11d1",
   "metadata": {
    "deletable": false,
    "id": "efd240a1-0640-4901-983d-e2cf3e7c11d1",
    "nbgrader": {
     "cell_type": "code",
     "checksum": "be7b1975e33a7a35e947f2a7af2ebcc1",
     "grade": false,
     "grade_id": "cell-a0d93b1f727b2f51",
     "locked": false,
     "schema_version": 3,
     "solution": true,
     "task": false
    },
    "tags": []
   },
   "outputs": [],
   "source": [
    "def gpa_one_student(marks, weights):\n",
    "    result = float(np.dot(marks,weights))/float(np.sum(weights))\n",
    "    return float(result)"
   ]
  },
  {
   "cell_type": "code",
   "execution_count": 31,
   "id": "db5e159a-77ef-4392-a09b-6fa48f3aacf2",
   "metadata": {
    "deletable": false,
    "editable": false,
    "id": "db5e159a-77ef-4392-a09b-6fa48f3aacf2",
    "nbgrader": {
     "cell_type": "code",
     "checksum": "c5661b082ad2f1329137537e4d9eb26e",
     "grade": false,
     "grade_id": "cell-cb37aab3ede8b4d2",
     "locked": true,
     "schema_version": 3,
     "solution": false,
     "task": false
    },
    "tags": []
   },
   "outputs": [
    {
     "data": {
      "text/plain": [
       "8.8"
      ]
     },
     "execution_count": 31,
     "metadata": {},
     "output_type": "execute_result"
    }
   ],
   "source": [
    "# thử nghiệm với ví dụ của đề bài\n",
    "marks = [8.0, 9.0, 10.0]\n",
    "credits = [2, 2, 1]\n",
    "gpa_one_student(marks, credits)"
   ]
  },
  {
   "cell_type": "code",
   "execution_count": 32,
   "id": "08a60353-f043-4cbf-b34b-75dcbf3b9969",
   "metadata": {
    "deletable": false,
    "editable": false,
    "id": "08a60353-f043-4cbf-b34b-75dcbf3b9969",
    "nbgrader": {
     "cell_type": "code",
     "checksum": "0245e467feedad2beb9fe8a64e42e6f1",
     "grade": true,
     "grade_id": "cell-f9ecf7150939ef80",
     "locked": true,
     "points": 5,
     "schema_version": 3,
     "solution": false,
     "task": false
    },
    "tags": []
   },
   "outputs": [],
   "source": [
    "# cell chấm điểm 3\n",
    "assert abs(gpa_one_student([10, 9, 8], [4, 3, 2])-9.222222222222221) < 0.000001"
   ]
  },
  {
   "cell_type": "code",
   "execution_count": 33,
   "id": "c5beac75-e077-44db-ae90-cbbfa491a1c6",
   "metadata": {
    "deletable": false,
    "editable": false,
    "id": "c5beac75-e077-44db-ae90-cbbfa491a1c6",
    "nbgrader": {
     "cell_type": "code",
     "checksum": "ffcc8ce965eb8d08277ebe77c067a7de",
     "grade": true,
     "grade_id": "cell-4706026df476b116",
     "locked": true,
     "points": 5,
     "schema_version": 3,
     "solution": false,
     "task": false
    },
    "tags": []
   },
   "outputs": [],
   "source": [
    "# cell chấm điểm 4"
   ]
  },
  {
   "cell_type": "markdown",
   "id": "6a011b37-e7ca-4305-94f0-98f422220b17",
   "metadata": {
    "deletable": false,
    "editable": false,
    "id": "6a011b37-e7ca-4305-94f0-98f422220b17",
    "nbgrader": {
     "cell_type": "markdown",
     "checksum": "5921b3d3d66b9fd3880316bb900a1846",
     "grade": false,
     "grade_id": "cell-75babf917c439b97",
     "locked": true,
     "schema_version": 3,
     "solution": false,
     "task": false
    },
    "tags": []
   },
   "source": [
    "## Bài 3:\n",
    "Đếm số lượng sinh viên có điểm số không dưới K điểm cho trước của một lớp học.\n",
    "\n",
    "**Input:**\n",
    "\n",
    "    - marks: kiểu numpy array, kích thước 1 x n. Đây là điểm toán cả n sinh viên trong lớp.\n",
    "    - K: kiểu số thực, điểm chuẩn.\n",
    "   \n",
    "**Output:**\n",
    "\n",
    "    - Kiểu số nguyên, số lượng sinh viên trong lớp đạt từ K điểm trở lên"
   ]
  },
  {
   "cell_type": "code",
   "execution_count": 34,
   "id": "7b919668-e216-4af4-9cac-bbb8068eed15",
   "metadata": {
    "deletable": false,
    "id": "7b919668-e216-4af4-9cac-bbb8068eed15",
    "nbgrader": {
     "cell_type": "code",
     "checksum": "debc2efa51087f3b7e8be09564ca8098",
     "grade": false,
     "grade_id": "cell-75bbb0d6e24b7c40",
     "locked": false,
     "schema_version": 3,
     "solution": true,
     "task": false
    },
    "tags": []
   },
   "outputs": [],
   "source": [
    "def pass_exam(marks, K):\n",
    "    passed = marks > K\n",
    "    return np.sum(passed)\n",
    "    raise NotImplementedError()"
   ]
  },
  {
   "cell_type": "code",
   "execution_count": 35,
   "id": "4bb7c170-a432-43be-ab18-22c6b3bed750",
   "metadata": {
    "deletable": false,
    "editable": false,
    "id": "4bb7c170-a432-43be-ab18-22c6b3bed750",
    "nbgrader": {
     "cell_type": "code",
     "checksum": "985a1cef648fa23e597460d4c6953d42",
     "grade": false,
     "grade_id": "cell-71e752c965448fb6",
     "locked": true,
     "schema_version": 3,
     "solution": false,
     "task": false
    },
    "tags": []
   },
   "outputs": [
    {
     "data": {
      "text/plain": [
       "1"
      ]
     },
     "execution_count": 35,
     "metadata": {},
     "output_type": "execute_result"
    }
   ],
   "source": [
    "# Test thử với 1 mẫu ví dụ\n",
    "marks = np.array([4.0, 9.0, 5.0])\n",
    "K = 5\n",
    "pass_exam(marks, K)"
   ]
  },
  {
   "cell_type": "code",
   "execution_count": 36,
   "id": "d4ad4034-a631-4088-bf66-2f700da324bf",
   "metadata": {
    "deletable": false,
    "editable": false,
    "id": "d4ad4034-a631-4088-bf66-2f700da324bf",
    "nbgrader": {
     "cell_type": "code",
     "checksum": "ea47c7f39535cdeec219e02bf804f1fc",
     "grade": true,
     "grade_id": "cell-19c61f2fdfaa710a",
     "locked": true,
     "points": 5,
     "schema_version": 3,
     "solution": false,
     "task": false
    },
    "tags": []
   },
   "outputs": [],
   "source": [
    "# cell chấm điểm 5\n",
    "assert pass_exam(np.array([3.0, 9.5, 4.5]), 5.0) == 1"
   ]
  },
  {
   "cell_type": "code",
   "execution_count": 37,
   "id": "db6da232-36bd-4534-a386-26da86baf3bd",
   "metadata": {
    "deletable": false,
    "editable": false,
    "id": "db6da232-36bd-4534-a386-26da86baf3bd",
    "nbgrader": {
     "cell_type": "code",
     "checksum": "62512f232a673fa486c2f34bb8b1c2f0",
     "grade": true,
     "grade_id": "cell-6457e32df8fac035",
     "locked": true,
     "points": 5,
     "schema_version": 3,
     "solution": false,
     "task": false
    },
    "tags": []
   },
   "outputs": [],
   "source": [
    "# cell chấm điểm 6"
   ]
  },
  {
   "cell_type": "markdown",
   "id": "9e1cce77-8967-411f-b341-91b913f6e589",
   "metadata": {
    "deletable": false,
    "editable": false,
    "id": "9e1cce77-8967-411f-b341-91b913f6e589",
    "nbgrader": {
     "cell_type": "markdown",
     "checksum": "47cf857ec0519c57af357e188fde030f",
     "grade": false,
     "grade_id": "cell-187e1b265ebe7250",
     "locked": true,
     "schema_version": 3,
     "solution": false,
     "task": false
    },
    "tags": []
   },
   "source": [
    "## Bài 4:\n",
    "Tính điểm trung bình cao nhất của một lớp học biết trước danh sách các điểm số và số tín chỉ\n",
    "cho từng môn học của một lớp.\n",
    "\n",
    "**Input:**\n",
    "   - marks: kiểu numpy array, kích thước m x n. Đây là điểm các môn của một lớp học. Trong đó, m là số sinh viên, n là số môn học\n",
    "   - credits: kiểu numpy array, kích thước 1 x n. Đây là số tín chỉ lần lượt của các môn.\n",
    "   \n",
    "**Output:**\n",
    "   - Kiểu số thực, điểm trung bình của sinh viên cao nhất."
   ]
  },
  {
   "cell_type": "markdown",
   "id": "e531cf6b-e9d0-477f-88b6-91bf08f5b6ff",
   "metadata": {
    "deletable": false,
    "editable": false,
    "id": "e531cf6b-e9d0-477f-88b6-91bf08f5b6ff",
    "nbgrader": {
     "cell_type": "markdown",
     "checksum": "fef2a31cc2f8ef35ff31f68a82e97490",
     "grade": false,
     "grade_id": "cell-e9bea152ef10fa8b",
     "locked": true,
     "schema_version": 3,
     "solution": false,
     "task": false
    },
    "tags": []
   },
   "source": [
    "Ví dụ:\n",
    "\n",
    "Input:\n",
    "```\n",
    "marks = np.array(\n",
    "   [[8.0, 9.0, 10.0],\n",
    "   [7.0, 9.0, 8.0],\n",
    "   [8.0, 8.0, 8.0],\n",
    "   [10.0, 9.0, 7.0],\n",
    "   [9.0, 9.0, 10.0]\n",
    "])\n",
    "\n",
    "credits = np.array([2,2,1])\n",
    "```\n",
    "\n",
    "Output:\n",
    "```\n",
    "9.2\n",
    "```"
   ]
  },
  {
   "cell_type": "code",
   "execution_count": 38,
   "id": "8a72c097-4b82-43d9-a3fb-e1fb9c40746c",
   "metadata": {
    "deletable": false,
    "id": "8a72c097-4b82-43d9-a3fb-e1fb9c40746c",
    "nbgrader": {
     "cell_type": "code",
     "checksum": "56fff7cf076a14b1695cbb7d0078a232",
     "grade": false,
     "grade_id": "cell-3a099ebd7eee51b7",
     "locked": false,
     "schema_version": 3,
     "solution": true,
     "task": false
    },
    "tags": []
   },
   "outputs": [],
   "source": [
    "def max_gpa(marks, credits):\n",
    "    matrix = np.dot(marks,credits)\n",
    "    return max(matrix/np.sum(credits))\n",
    "    raise NotImplementedError()"
   ]
  },
  {
   "cell_type": "code",
   "execution_count": 39,
   "id": "b7e3fec7-a2e8-402a-96ee-493b9b921fe2",
   "metadata": {
    "deletable": false,
    "editable": false,
    "id": "b7e3fec7-a2e8-402a-96ee-493b9b921fe2",
    "nbgrader": {
     "cell_type": "code",
     "checksum": "609cd177fdf606fc72ea6819eaa665a6",
     "grade": false,
     "grade_id": "cell-698f7a73b54b42d0",
     "locked": true,
     "schema_version": 3,
     "solution": false,
     "task": false
    },
    "tags": []
   },
   "outputs": [
    {
     "data": {
      "text/plain": [
       "9.2"
      ]
     },
     "execution_count": 39,
     "metadata": {},
     "output_type": "execute_result"
    }
   ],
   "source": [
    "# thử nghiệm với ví dụ của đề bài\n",
    "marks = np.array(\n",
    "   [[8.0, 9.0, 10.0],\n",
    "   [7.0, 9.0, 8.0],\n",
    "   [8.0, 8.0, 8.0],\n",
    "   [10.0, 9.0, 7.0],\n",
    "   [9.0, 9.0, 10.0]\n",
    "])\n",
    "credits = np.array([2,2,1])\n",
    "max_gpa(marks, credits)"
   ]
  },
  {
   "cell_type": "code",
   "execution_count": 40,
   "id": "b23da38f-5301-438c-b60c-ace949a6ea76",
   "metadata": {
    "deletable": false,
    "editable": false,
    "id": "b23da38f-5301-438c-b60c-ace949a6ea76",
    "nbgrader": {
     "cell_type": "code",
     "checksum": "b5f9b795d5d607a18c70a884abfd1434",
     "grade": true,
     "grade_id": "cell-84b3a393314e50ba",
     "locked": true,
     "points": 5,
     "schema_version": 3,
     "solution": false,
     "task": false
    },
    "tags": []
   },
   "outputs": [],
   "source": [
    "# cell chấm điểm 7\n",
    "marks = np.array(\n",
    "   [[4.0, 9.0, 4.5],\n",
    "   [5.0, 8.0, 4.5],\n",
    "   [6.0, 7.0, 7.5],\n",
    "   [7.0, 6.0, 7.5],\n",
    "   [8.0, 5.0, 4.5]\n",
    "])\n",
    "credits = np.array([2,1,2])\n",
    "assert abs(max_gpa(marks, credits)-7.0) < 0.000001"
   ]
  },
  {
   "cell_type": "code",
   "execution_count": 41,
   "id": "0333a8c0-36a4-4954-836e-6cd326a74f48",
   "metadata": {
    "deletable": false,
    "editable": false,
    "id": "0333a8c0-36a4-4954-836e-6cd326a74f48",
    "nbgrader": {
     "cell_type": "code",
     "checksum": "8adaabe647e1e2c24a964f5ed12092de",
     "grade": true,
     "grade_id": "cell-afcc38c40ff1554e",
     "locked": true,
     "points": 5,
     "schema_version": 3,
     "solution": false,
     "task": false
    },
    "tags": []
   },
   "outputs": [],
   "source": [
    "# cell chấm điểm 8"
   ]
  },
  {
   "cell_type": "markdown",
   "id": "e4888087-dd30-499e-8d35-ce614c2ddf42",
   "metadata": {
    "deletable": false,
    "editable": false,
    "id": "e4888087-dd30-499e-8d35-ce614c2ddf42",
    "nbgrader": {
     "cell_type": "markdown",
     "checksum": "474fa32271d173184cecb038aa84a428",
     "grade": false,
     "grade_id": "cell-50ac0aaae29c1aa2",
     "locked": true,
     "schema_version": 3,
     "solution": false,
     "task": false
    },
    "tags": []
   },
   "source": [
    "## Bài 5:\n",
    "Tính điểm trung bình tích luỹ của từng sinh viên trong lớp học biết trước\n",
    "danh sách các điểm số và số tín chỉ cho từng môn học của một lớp.\n",
    "\n",
    "**Lưu ý:** khi tính điểm trung bình ta sẽ loại bỏ các điểm và các tín chỉ của môn dưới 5 điểm (rớt).\n",
    "\n",
    "**Công thức tính điểm trung bình tích lũy:**\n",
    "   - ĐTBTL = (điểm môn 1 * số tín chỉ môn 1 + ... + điểm môn n * số tín chỉ môn n) / tổng số tín chỉ\n",
    "\n",
    "**Input:**\n",
    "   - marks: kiểu numpy array, kích thước m x n. Đây là điểm các môn của một lớp học.\n",
    "   Trong đó, m là số sinh viên, n là số môn học\n",
    "   - credits: kiểu numpy array, kích thước 1 x n. Đây là số tín chỉ lần lượt của các môn.\n",
    "\n",
    "**Output:**\n",
    "   - Kiểu numpy array, kích thước 1 x m, chứa điểm trung bình của các bạn sinh viên trong lớp."
   ]
  },
  {
   "cell_type": "markdown",
   "id": "edab36c5-b01f-4d38-8d9d-ae76af13381a",
   "metadata": {
    "deletable": false,
    "editable": false,
    "id": "edab36c5-b01f-4d38-8d9d-ae76af13381a",
    "nbgrader": {
     "cell_type": "markdown",
     "checksum": "593316163ad6e581ced0177bed5407ab",
     "grade": false,
     "grade_id": "cell-c9ab900524d38f2c",
     "locked": true,
     "schema_version": 3,
     "solution": false,
     "task": false
    },
    "tags": []
   },
   "source": [
    "Ví dụ:\n",
    "\n",
    "Input:\n",
    "```\n",
    "marks = np.array([\n",
    "    [8.0, 9.0, 10.0],\n",
    "    [4.0, 9.0, 8.0],\n",
    "    [8.0, 3.0, 8.0],\n",
    "    [10.0, 9.0, 5.0],\n",
    "    [9.0, 9.0, 4.0]\n",
    "])\n",
    "\n",
    "credits = np.array([2, 2, 1])\n",
    "```\n",
    "\n",
    "Output:\n",
    "```\n",
    "array([8.8, 8.66666667, 8., 8.6, 9.])\n",
    "```"
   ]
  },
  {
   "cell_type": "code",
   "execution_count": 45,
   "id": "5c25bdba-6373-468f-90a1-eff66b4f0044",
   "metadata": {
    "deletable": false,
    "id": "5c25bdba-6373-468f-90a1-eff66b4f0044",
    "nbgrader": {
     "cell_type": "code",
     "checksum": "711bb511554b157e85d9a616e280b4d9",
     "grade": false,
     "grade_id": "cell-85c2823fb5e72e1e",
     "locked": false,
     "schema_version": 3,
     "solution": true,
     "task": false
    },
    "tags": []
   },
   "outputs": [],
   "source": [
    "def gpa_of_pass(marks, credits):\n",
    "    valid_marks = np.where(marks >= 5, marks, 0)\n",
    "    valid_credits = np.where(valid_marks > 0, credits, 0)\n",
    "\n",
    "    total_points = np.sum(valid_marks * valid_credits, axis=1)\n",
    "    total_credits = np.sum(valid_credits, axis=1)\n",
    "\n",
    "    total_credits = np.where(total_credits == 0, 1, total_credits)\n",
    "\n",
    "    return total_points / total_credits"
   ]
  },
  {
   "cell_type": "code",
   "execution_count": 46,
   "id": "313d26d6-0f4f-4483-aaa1-93423bebb343",
   "metadata": {
    "deletable": false,
    "editable": false,
    "id": "313d26d6-0f4f-4483-aaa1-93423bebb343",
    "nbgrader": {
     "cell_type": "code",
     "checksum": "9d979e74e4d9a9df386ff23f84ae9f2b",
     "grade": false,
     "grade_id": "cell-89eb2ed25ca4c101",
     "locked": true,
     "schema_version": 3,
     "solution": false,
     "task": false
    },
    "tags": []
   },
   "outputs": [
    {
     "data": {
      "text/plain": [
       "array([8.8       , 8.66666667, 8.        , 8.6       , 9.        ])"
      ]
     },
     "execution_count": 46,
     "metadata": {},
     "output_type": "execute_result"
    }
   ],
   "source": [
    "# thử nghiệm với ví dụ của đề bài\n",
    "marks = np.array(\n",
    "    [[8.0, 9.0, 10.0],\n",
    "    [4.0, 9.0, 8.0],\n",
    "    [8.0, 3.0, 8.0],\n",
    "    [10.0, 9.0, 5.0],\n",
    "    [9.0, 9.0, 4.0]])\n",
    "credits = np.array([2,2,1])\n",
    "gpa_of_pass(marks, credits)"
   ]
  },
  {
   "cell_type": "code",
   "execution_count": 47,
   "id": "84e0bd7b-6b3c-4ce1-a815-d3a4b3d3da02",
   "metadata": {
    "deletable": false,
    "editable": false,
    "id": "84e0bd7b-6b3c-4ce1-a815-d3a4b3d3da02",
    "nbgrader": {
     "cell_type": "code",
     "checksum": "186157d161c18252e84645887ab88eb9",
     "grade": true,
     "grade_id": "cell-fa2fa11d0d185e58",
     "locked": true,
     "points": 5,
     "schema_version": 3,
     "solution": false,
     "task": false
    },
    "tags": []
   },
   "outputs": [],
   "source": [
    "# cell chấm điểm 9\n",
    "marks = np.array(\n",
    "   [[4.0, 9.0, 4.5],\n",
    "   [5.0, 8.0, 4.5],\n",
    "   [6.0, 7.0, 7.5],\n",
    "   [7.0, 6.0, 7.5],\n",
    "   [8.0, 5.0, 4.5]])\n",
    "credits = np.array([2,1,2])\n",
    "assert np.sum(abs(gpa_of_pass(marks, credits)-np.array([9., 6., 6.8, 7.0, 7.0]))) < 0.000001"
   ]
  },
  {
   "cell_type": "code",
   "execution_count": 48,
   "id": "8de1fd1d-518b-4722-85c1-e54957057991",
   "metadata": {
    "deletable": false,
    "editable": false,
    "id": "8de1fd1d-518b-4722-85c1-e54957057991",
    "nbgrader": {
     "cell_type": "code",
     "checksum": "943f8fa078269f9cb1bf2dfa30acb09f",
     "grade": true,
     "grade_id": "cell-8119a54a9940d0cf",
     "locked": true,
     "points": 5,
     "schema_version": 3,
     "solution": false,
     "task": false
    },
    "tags": []
   },
   "outputs": [],
   "source": [
    "# cell chấm điểm 10"
   ]
  },
  {
   "cell_type": "code",
   "execution_count": null,
   "id": "a692f764-06ad-4455-ae85-445fbe23bed9",
   "metadata": {},
   "outputs": [],
   "source": []
  }
 ],
 "metadata": {
  "colab": {
   "provenance": []
  },
  "kernelspec": {
   "display_name": "Python 3 (ipykernel)",
   "language": "python",
   "name": "python3"
  },
  "language_info": {
   "codemirror_mode": {
    "name": "ipython",
    "version": 3
   },
   "file_extension": ".py",
   "mimetype": "text/x-python",
   "name": "python",
   "nbconvert_exporter": "python",
   "pygments_lexer": "ipython3",
   "version": "3.11.3"
  }
 },
 "nbformat": 4,
 "nbformat_minor": 5
}
